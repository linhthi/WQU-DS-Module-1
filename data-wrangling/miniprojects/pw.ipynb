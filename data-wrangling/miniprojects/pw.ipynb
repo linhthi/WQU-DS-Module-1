{
 "cells": [
  {
   "cell_type": "code",
   "execution_count": 3,
   "metadata": {},
   "outputs": [],
   "source": [
    "%matplotlib inline\n",
    "import matplotlib\n",
    "import seaborn as sns\n",
    "matplotlib.rcParams['savefig.dpi'] = 144"
   ]
  },
  {
   "cell_type": "code",
   "execution_count": 4,
   "metadata": {},
   "outputs": [],
   "source": [
    "from static_grader import grader"
   ]
  },
  {
   "cell_type": "markdown",
   "metadata": {},
   "source": [
    "# PW Miniproject\n",
    "## Introduction\n",
    "\n",
    "The objective of this miniproject is to exercise your ability to use basic Python data structures, define functions, and control program flow. We will be using these concepts to perform some fundamental data wrangling tasks such as joining data sets together, splitting data into groups, and aggregating data into summary statistics.\n",
    "**Please do not use `pandas` or `numpy` to answer these questions.**\n",
    "\n",
    "We will be working with medical data from the British NHS on prescription drugs. Since this is real data, it contains many ambiguities that we will need to confront in our analysis. This is commonplace in data science, and is one of the lessons you will learn in this miniproject."
   ]
  },
  {
   "cell_type": "markdown",
   "metadata": {},
   "source": [
    "## Downloading the data\n",
    "\n",
    "We first need to download the data we'll be using from Amazon S3:"
   ]
  },
  {
   "cell_type": "code",
   "execution_count": 5,
   "metadata": {},
   "outputs": [
    {
     "name": "stderr",
     "output_type": "stream",
     "text": [
      "mkdir: cannot create directory ‘pw-data’: File exists\n",
      "File ‘./pw-data/201701scripts_sample.json.gz’ already there; not retrieving.\n",
      "\n",
      "File ‘./pw-data/practices.json.gz’ already there; not retrieving.\n",
      "\n"
     ]
    }
   ],
   "source": [
    "%%bash\n",
    "mkdir pw-data\n",
    "wget http://dataincubator-wqu.s3.amazonaws.com/pwdata/201701scripts_sample.json.gz -nc -P ./pw-data\n",
    "wget http://dataincubator-wqu.s3.amazonaws.com/pwdata/practices.json.gz -nc -P ./pw-data"
   ]
  },
  {
   "cell_type": "markdown",
   "metadata": {},
   "source": [
    "## Loading the data\n",
    "\n",
    "The first step of the project is to read in the data. We will discuss reading and writing various kinds of files later in the course, but the code below should get you started."
   ]
  },
  {
   "cell_type": "code",
   "execution_count": 6,
   "metadata": {},
   "outputs": [],
   "source": [
    "import gzip\n",
    "import simplejson as json"
   ]
  },
  {
   "cell_type": "code",
   "execution_count": 7,
   "metadata": {},
   "outputs": [],
   "source": [
    "with gzip.open('./pw-data/201701scripts_sample.json.gz', 'rb') as f:\n",
    "    scripts = json.load(f)\n",
    "\n",
    "with gzip.open('./pw-data/practices.json.gz', 'rb') as f:\n",
    "    practices = json.load(f)"
   ]
  },
  {
   "cell_type": "markdown",
   "metadata": {},
   "source": [
    "This data set comes from Britain's National Health Service. The `scripts` variable is a list of prescriptions issued by NHS doctors. Each prescription is represented by a dictionary with various data fields: `'practice'`, `'bnf_code'`, `'bnf_name'`, `'quantity'`, `'items'`, `'nic'`, and `'act_cost'`. "
   ]
  },
  {
   "cell_type": "code",
   "execution_count": 8,
   "metadata": {},
   "outputs": [
    {
     "data": {
      "text/plain": [
       "[{'bnf_code': '0101010G0AAABAB',\n",
       "  'items': 2,\n",
       "  'practice': 'N81013',\n",
       "  'bnf_name': 'Co-Magaldrox_Susp 195mg/220mg/5ml S/F',\n",
       "  'nic': 5.98,\n",
       "  'act_cost': 5.56,\n",
       "  'quantity': 1000},\n",
       " {'bnf_code': '0101021B0AAAHAH',\n",
       "  'items': 1,\n",
       "  'practice': 'N81013',\n",
       "  'bnf_name': 'Alginate_Raft-Forming Oral Susp S/F',\n",
       "  'nic': 1.95,\n",
       "  'act_cost': 1.82,\n",
       "  'quantity': 500}]"
      ]
     },
     "execution_count": 8,
     "metadata": {},
     "output_type": "execute_result"
    }
   ],
   "source": [
    "scripts[:2]"
   ]
  },
  {
   "cell_type": "markdown",
   "metadata": {},
   "source": [
    "A [glossary of terms](http://webarchive.nationalarchives.gov.uk/20180328130852tf_/http://content.digital.nhs.uk/media/10686/Download-glossary-of-terms-for-GP-prescribing---presentation-level/pdf/PLP_Presentation_Level_Glossary_April_2015.pdf/) and [FAQ](http://webarchive.nationalarchives.gov.uk/20180328130852tf_/http://content.digital.nhs.uk/media/10048/FAQs-Practice-Level-Prescribingpdf/pdf/PLP_FAQs_April_2015.pdf/) is available from the NHS regarding the data. Below we supply a data dictionary briefly describing what these fields mean.\n",
    "\n",
    "| Data field |Description|\n",
    "|:----------:|-----------|\n",
    "|`'practice'`|Code designating the medical practice issuing the prescription|\n",
    "|`'bnf_code'`|British National Formulary drug code|\n",
    "|`'bnf_name'`|British National Formulary drug name|\n",
    "|`'quantity'`|Number of capsules/quantity of liquid/grams of powder prescribed|\n",
    "| `'items'`  |Number of refills (e.g. if `'quantity'` is 30 capsules, 3 `'items'` means 3 bottles of 30 capsules)|\n",
    "|  `'nic'`   |Net ingredient cost|\n",
    "|`'act_cost'`|Total cost including containers, fees, and discounts|"
   ]
  },
  {
   "cell_type": "markdown",
   "metadata": {},
   "source": [
    "The `practices` variable is a list of member medical practices of the NHS. Each practice is represented by a dictionary containing identifying information for the medical practice. Most of the data fields are self-explanatory. Notice the values in the `'code'` field of `practices` match the values in the `'practice'` field of `scripts`."
   ]
  },
  {
   "cell_type": "code",
   "execution_count": 9,
   "metadata": {},
   "outputs": [
    {
     "data": {
      "text/plain": [
       "[{'code': 'A81001',\n",
       "  'name': 'THE DENSHAM SURGERY',\n",
       "  'addr_1': 'THE HEALTH CENTRE',\n",
       "  'addr_2': 'LAWSON STREET',\n",
       "  'borough': 'STOCKTON ON TEES',\n",
       "  'village': 'CLEVELAND',\n",
       "  'post_code': 'TS18 1HU'},\n",
       " {'code': 'A81002',\n",
       "  'name': 'QUEENS PARK MEDICAL CENTRE',\n",
       "  'addr_1': 'QUEENS PARK MEDICAL CTR',\n",
       "  'addr_2': 'FARRER STREET',\n",
       "  'borough': 'STOCKTON ON TEES',\n",
       "  'village': 'CLEVELAND',\n",
       "  'post_code': 'TS18 2AW'}]"
      ]
     },
     "execution_count": 9,
     "metadata": {},
     "output_type": "execute_result"
    }
   ],
   "source": [
    "practices[:2]"
   ]
  },
  {
   "cell_type": "markdown",
   "metadata": {},
   "source": [
    "In the following questions we will ask you to explore this data set. You may need to combine pieces of the data set together in order to answer some questions. Not every element of the data set will be used in answering the questions."
   ]
  },
  {
   "cell_type": "markdown",
   "metadata": {},
   "source": [
    "## Question 1: summary_statistics\n",
    "\n",
    "Our beneficiary data (`scripts`) contains quantitative data on the number of items dispensed (`'items'`), the total quantity of item dispensed (`'quantity'`), the net cost of the ingredients (`'nic'`), and the actual cost to the patient (`'act_cost'`). Whenever working with a new data set, it can be useful to calculate summary statistics to develop a feeling for the volume and character of the data. This makes it easier to spot trends and significant features during further stages of analysis.\n",
    "\n",
    "Calculate the sum, mean, standard deviation, and quartile statistics for each of these quantities. Format your results for each quantity as a list: `[sum, mean, standard deviation, 1st quartile, median, 3rd quartile]`. We'll create a `tuple` with these lists for each quantity as a final result."
   ]
  },
  {
   "cell_type": "code",
   "execution_count": 10,
   "metadata": {},
   "outputs": [],
   "source": [
    "\n",
    "import math \n",
    "import numpy as np\n",
    "\n",
    "def describe(key):\n",
    "\n",
    "    list_key = [x[key] for x in scripts]\n",
    "    list_key.sort()\n",
    "    count = len(list_key)\n",
    "    total = sum(list_key)\n",
    "    avg = total / count\n",
    "    s = sum([(x - avg) ** 2 for x in list_key])\n",
    "    s = math.sqrt(s/count)\n",
    "    q25 = np.percentile(list_key,25)\n",
    "    med = np.percentile(list_key,50)\n",
    "    q75 = np.percentile(list_key,75)\n",
    "\n",
    "    return (total, avg, s, q25, med, q75)"
   ]
  },
  {
   "cell_type": "code",
   "execution_count": 11,
   "metadata": {},
   "outputs": [],
   "source": [
    "summary = [('items', describe('items')),\n",
    "           ('quantity', describe('quantity')),\n",
    "           ('nic', describe('nic')),\n",
    "           ('act_cost', describe('act_cost'))]"
   ]
  },
  {
   "cell_type": "code",
   "execution_count": 13,
   "metadata": {},
   "outputs": [
    {
     "name": "stdout",
     "output_type": "stream",
     "text": [
      "==================\n",
      "Your score:  1.0\n",
      "==================\n"
     ]
    }
   ],
   "source": [
    "grader.score.pw__summary_statistics(summary)"
   ]
  },
  {
   "cell_type": "markdown",
   "metadata": {},
   "source": [
    "## Question 2: most_common_item\n",
    "\n",
    "Often we are not interested only in how the data is distributed in our entire data set, but within particular groups -- for example, how many items of each drug (i.e. `'bnf_name'`) were prescribed? Calculate the total items prescribed for each `'bnf_name'`. What is the most commonly prescribed `'bnf_name'` in our data?\n",
    "\n",
    "To calculate this, we first need to split our data set into groups corresponding with the different values of `'bnf_name'`. Then we can sum the number of items dispensed within in each group. Finally we can find the largest sum.\n",
    "\n",
    "We'll use `'bnf_name'` to construct our groups. You should have *5619* unique values for `'bnf_name'`."
   ]
  },
  {
   "cell_type": "code",
   "execution_count": 14,
   "metadata": {},
   "outputs": [],
   "source": [
    "bnf_names = set([x['bnf_name'] for x in scripts])\n",
    "assert(len(bnf_names) == 5619)"
   ]
  },
  {
   "cell_type": "markdown",
   "metadata": {},
   "source": [
    "We want to construct \"groups\" identified by `'bnf_name'`, where each group is a collection of prescriptions (i.e. dictionaries from `scripts`). We'll construct a dictionary called `groups`, using `bnf_names` as the keys. We'll represent a group with a `list`, since we can easily append new members to the group. To split our `scripts` into groups by `'bnf_name'`, we should iterate over `scripts`, appending prescription dictionaries to each group as we encounter them."
   ]
  },
  {
   "cell_type": "code",
   "execution_count": 15,
   "metadata": {},
   "outputs": [],
   "source": [
    "groups = {name: [] for name in bnf_names}\n",
    "for script in scripts:\n",
    "    groups[script['bnf_name']].append(script['items'])"
   ]
  },
  {
   "cell_type": "markdown",
   "metadata": {},
   "source": [
    "Now that we've constructed our groups we should sum up `'items'` in each group and find the `'bnf_name'` with the largest sum. The result, `max_item`, should have the form `[(bnf_name, item total)]`, e.g. `[('Foobar', 2000)]`."
   ]
  },
  {
   "cell_type": "code",
   "execution_count": 16,
   "metadata": {},
   "outputs": [],
   "source": [
    "sum_dict = {key:sum(value) for key,value in groups.items()}"
   ]
  },
  {
   "cell_type": "code",
   "execution_count": 17,
   "metadata": {},
   "outputs": [
    {
     "data": {
      "text/plain": [
       "[('Omeprazole_Cap E/C 20mg', 113826),\n",
       " ('Paracet_Tab 500mg', 81762),\n",
       " ('Aspirin Disper_Tab 75mg', 78830),\n",
       " ('Simvastatin_Tab 40mg', 69612),\n",
       " ('Salbutamol_Inha 100mcg (200 D) CFF', 68160),\n",
       " ('Lansoprazole_Cap 30mg (E/C Gran)', 67888),\n",
       " ('Amlodipine_Tab 5mg', 66510),\n",
       " ('Metformin HCl_Tab 500mg', 59901),\n",
       " ('Atorvastatin_Tab 20mg', 58882),\n",
       " ('Simvastatin_Tab 20mg', 45652),\n",
       " ('Amlodipine_Tab 10mg', 45361),\n",
       " ('Amoxicillin_Cap 500mg', 44866),\n",
       " ('Ramipril_Cap 10mg', 44098),\n",
       " ('Bendroflumethiazide_Tab 2.5mg', 43840),\n",
       " ('Atorvastatin_Tab 40mg', 43820),\n",
       " ('Levothyrox Sod_Tab 50mcg', 40001),\n",
       " ('Levothyrox Sod_Tab 100mcg', 39851),\n",
       " ('Levothyrox Sod_Tab 25mcg', 38422),\n",
       " ('Clopidogrel_Tab 75mg', 37400),\n",
       " ('Citalopram Hydrob_Tab 20mg', 35978),\n",
       " ('Lansoprazole_Cap 15mg (E/C Gran)', 35217),\n",
       " ('Amitriptyline HCl_Tab 10mg', 34454),\n",
       " ('Bisoprolol Fumar_Tab 2.5mg', 33082),\n",
       " ('Furosemide_Tab 40mg', 32970),\n",
       " ('Ramipril_Cap 5mg', 29002),\n",
       " ('Sertraline HCl_Tab 50mg', 28550),\n",
       " ('Tramadol HCl_Cap 50mg', 28108),\n",
       " ('Fluoxetine HCl_Cap 20mg', 27574),\n",
       " ('Ramipril_Cap 2.5mg', 27097),\n",
       " ('Folic Acid_Tab 5mg', 26745),\n",
       " ('Prednisolone_Tab 5mg', 25884),\n",
       " ('Ventolin_Evohaler 100mcg (200 D)', 25836),\n",
       " ('Alendronic Acid_Tab 70mg', 25473),\n",
       " ('Atorvastatin_Tab 10mg', 25070),\n",
       " ('Sertraline HCl_Tab 100mg', 24994),\n",
       " ('Co-Codamol_Tab 30mg/500mg', 24114),\n",
       " ('Tamsulosin HCl_Cap 400mcg M/R', 23057),\n",
       " ('Gliclazide_Tab 80mg', 22381),\n",
       " ('Bisoprolol Fumar_Tab 5mg', 21581),\n",
       " ('Bisoprolol Fumar_Tab 1.25mg', 20265),\n",
       " ('Gabapentin_Cap 300mg', 19848),\n",
       " ('Naproxen_Tab 500mg', 18933),\n",
       " ('Cetirizine HCl_Tab 10mg', 18780),\n",
       " ('Atorvastatin_Tab 80mg', 18595),\n",
       " ('Warfarin Sod_Tab 1mg', 18013),\n",
       " ('Atenolol_Tab 50mg', 17540),\n",
       " ('Aspirin_Tab E/C 75mg', 17066),\n",
       " ('Citalopram Hydrob_Tab 10mg', 16818),\n",
       " ('Tiotropium_Pdr For Inh Cap 18mcg', 16816),\n",
       " ('Doxycycline Hyclate_Cap 100mg', 16258),\n",
       " ('Ranitidine HCl_Tab 150mg', 16177),\n",
       " ('Ferr Fumar_Tab 210mg', 16130),\n",
       " ('Furosemide_Tab 20mg', 15377),\n",
       " ('Adcal-D3_Tab Chble (Tutti-Frutti)', 15039),\n",
       " ('Warfarin Sod_Tab 3mg', 14514),\n",
       " ('Lactulose_Soln 3.1g-3.7g/5ml', 14460),\n",
       " ('Co-Codamol_Tab 8mg/500mg', 14416),\n",
       " ('Codeine Phos_Tab 30mg', 14408),\n",
       " ('Zopiclone_Tab 7.5mg', 14093),\n",
       " ('Senna_Tab 7.5mg', 14088),\n",
       " ('Losartan Pot_Tab 50mg', 14064),\n",
       " ('Losartan Pot_Tab 100mg', 13877),\n",
       " ('Amitriptyline HCl_Tab 25mg', 13827),\n",
       " ('Ferr Sulf_Tab 200mg', 13448),\n",
       " ('Zapain_Tab 30mg/500mg', 13370),\n",
       " ('Doxazosin Mesil_Tab 4mg', 12987),\n",
       " ('Lisinopril_Tab 20mg', 12968),\n",
       " ('Fluclox Sod_Cap 500mg', 12871),\n",
       " ('Metformin HCl_Tab 500mg M/R', 12767),\n",
       " ('Clenil Modulite_Inha 100mcg (200D)', 12569),\n",
       " ('Mirtazapine_Tab 30mg', 12174),\n",
       " ('Allopurinol_Tab 100mg', 11901),\n",
       " ('Indapamide_Tab 2.5mg', 11811),\n",
       " ('Influenza_Vac Inact 0.5ml Pfs', 11791),\n",
       " ('Mirtazapine_Tab 15mg', 11744),\n",
       " ('Lisinopril_Tab 10mg', 11578),\n",
       " ('Laxido_Oral Pdr Sach (Orange) S/F', 11460),\n",
       " ('Thiamine HCl_Tab 100mg', 11339),\n",
       " ('Finasteride_Tab 5mg', 11295),\n",
       " ('Mirtazapine_Tab 45mg', 11262),\n",
       " ('Diazepam_Tab 2mg', 11160),\n",
       " ('Fostair_Inh 100mcg/6mcg (120D) CFF', 11152),\n",
       " ('Ramipril_Cap 1.25mg', 11103),\n",
       " ('Aspirin_Tab 75mg', 11027),\n",
       " ('Trimethoprim_Tab 200mg', 10979),\n",
       " ('Hydroxocobalamin_Inj 1mg/ml 1ml Amp', 10654),\n",
       " ('Bisoprolol Fumar_Tab 10mg', 10326),\n",
       " ('Atenolol_Tab 25mg', 10303),\n",
       " ('Co-Dydramol_Tab 10mg/500mg', 10072),\n",
       " ('Co-Codamol_Cap 30mg/500mg', 9841),\n",
       " ('Sitagliptin_Tab 100mg', 9836),\n",
       " ('Clarithromycin_Tab 500mg', 9772),\n",
       " ('Carbocisteine_Cap 375mg', 9771),\n",
       " ('Allopurinol_Tab 300mg', 9545),\n",
       " ('Vit B Co Strong_Tab', 9503),\n",
       " ('Zopiclone_Tab 3.75mg', 9369),\n",
       " ('Propranolol HCl_Tab 40mg', 9315),\n",
       " ('Latanoprost_Eye Dps 50mcg/ml', 9181),\n",
       " ('Gabapentin_Cap 100mg', 8963),\n",
       " ('Citalopram Hydrob_Tab 40mg', 8662),\n",
       " ('Docusate Sod_Cap 100mg', 8624),\n",
       " ('Montelukast_Tab 10mg', 8622),\n",
       " ('Naproxen_Tab 250mg', 8589),\n",
       " ('Loratadine_Tab 10mg', 8487),\n",
       " ('Amitriptyline HCl_Tab 50mg', 8437),\n",
       " ('Lisinopril_Tab 5mg', 8404),\n",
       " ('Diazepam_Tab 5mg', 8224),\n",
       " ('Ibuprofen_Tab 400mg', 8130),\n",
       " ('Metformin HCl_Tab 1g M/R', 7981),\n",
       " ('Spironol_Tab 25mg', 7914),\n",
       " ('Perindopril Erbumine_Tab 4mg', 7896),\n",
       " ('Rivaroxaban_Tab 20mg', 7856),\n",
       " ('Candesartan Cilexetil_Tab 8mg', 7842),\n",
       " ('Adcal-D3_Capl 750mg/200u', 7801),\n",
       " ('Colecal & Calc_Tab Chble 400u/1.5g', 7699),\n",
       " ('Phenoxymethylpenicillin Pot_Tab 250mg', 7677),\n",
       " ('Omeprazole_Cap E/C 10mg', 7619),\n",
       " ('Sildenafil_Tab 100mg', 7433),\n",
       " ('Codeine Phos_Tab 15mg', 7358),\n",
       " ('Perindopril Erbumine_Tab 8mg', 7220),\n",
       " ('Losartan Pot_Tab 25mg', 7138),\n",
       " ('Doxazosin Mesil_Tab 2mg', 7120),\n",
       " ('Hypromellose_Eye Dps 0.3%', 7037),\n",
       " ('Mebeverine HCl_Tab 135mg', 6851),\n",
       " ('Mometasone Fur_Aq N/Spy 50mcg (140 D)', 6770),\n",
       " ('Loperamide HCl_Cap 2mg', 6718),\n",
       " ('Methotrexate_Tab 2.5mg', 6696),\n",
       " ('Dihydrocodeine Tart_Tab 30mg', 6647),\n",
       " ('Ezetimibe_Tab 10mg', 6600),\n",
       " ('Digoxin_Tab 125mcg', 6543),\n",
       " ('Morph Sulf_Oral Soln 10mg/5ml', 6536),\n",
       " ('Hydrocort_Crm 1%', 6507),\n",
       " ('Metformin HCl_Tab 850mg', 6491),\n",
       " ('Aveeno_Crm', 6475),\n",
       " ('Quinine Sulf_Tab 300mg', 6475),\n",
       " ('Bumetanide_Tab 1mg', 6414),\n",
       " ('Beclomet Diprop_Nsl Spy 50mcg (200 D)', 6407),\n",
       " ('Simvastatin_Tab 10mg', 6404),\n",
       " ('Doublebase_Gel', 6386),\n",
       " ('Pravastatin Sod_Tab 40mg', 6383),\n",
       " ('Quinine Sulf_Tab 200mg', 6306),\n",
       " ('Candesartan Cilexetil_Tab 16mg', 6293),\n",
       " ('Propranolol HCl_Tab 10mg', 6277),\n",
       " ('Prochlpzine Mal_Tab 5mg', 6209),\n",
       " ('Diclofenac Sod_Gel 1.16%', 6179),\n",
       " ('Duloxetine HCl_Cap G/R 60mg', 6137),\n",
       " ('Otomize_Ear Spy 5ml', 6123),\n",
       " ('Fultium-D3_Cap 800u', 6080),\n",
       " ('Lercanidipine HCl_Tab 10mg', 6049),\n",
       " ('Linagliptin_Tab 5mg', 6041),\n",
       " ('Hyoscine Butylbrom_Tab 10mg', 6019),\n",
       " ('Accrete D3_Tab', 5993),\n",
       " ('Bisacodyl_Tab E/C 5mg', 5979),\n",
       " ('Donepezil HCl_Tab 10mg', 5907),\n",
       " ('Candesartan Cilexetil_Tab 4mg', 5854),\n",
       " ('GlucoRX FinePoint Needles Pen Inj Screw', 5694),\n",
       " ('Solifenacin_Tab 5mg', 5643),\n",
       " ('Gaviscon Advance_Liq (Aniseed) (Reckitt)', 5568),\n",
       " ('Propranolol HCl_Cap 80mg M/R', 5548),\n",
       " ('Ibuprofen_Gel 5%', 5515),\n",
       " ('Chloramphen_Eye Dps 0.5%', 5494),\n",
       " ('Calcichew D3 Fte_Tab Chble', 5465),\n",
       " ('Fexofenadine HCl_Tab 180mg', 5448),\n",
       " ('Salbutamol_Inha B/A 100mcg (200 D) CFF', 5420),\n",
       " ('Apixaban_Tab 5mg', 5417),\n",
       " ('Macrogol_Co Oral Pdr Sach S/F', 5412),\n",
       " ('Amoxicillin_Oral Susp 250mg/5ml S/F', 5409),\n",
       " ('Gliclazide_Tab 40mg', 5309),\n",
       " ('Nicorandil_Tab 10mg', 5287),\n",
       " ('Monomil XL_Tab 60mg', 5135),\n",
       " ('E45_Crm', 5107),\n",
       " ('Cetraben Crm 500g', 5103),\n",
       " ('Co-Codamol_Tab 15mg/500mg', 5046),\n",
       " ('Symbicort_Turbohaler 200mcg/6mcg (120 D)', 4953),\n",
       " ('Perindopril Erbumine_Tab 2mg', 4934),\n",
       " ('Desogestrel_Tab 75mcg', 4843),\n",
       " ('Glyceryl Trinit_Sub P/Spy 400mcg (180D)', 4836),\n",
       " ('Indapamide_Tab 1.5mg M/R', 4790),\n",
       " ('Hydrocort/Miconazole Nit_Crm 1%/2%', 4780),\n",
       " ('Colecal & Calc_Tab Chble 400u/1.25g', 4696),\n",
       " ('Sildenafil_Tab 50mg', 4693),\n",
       " ('Co-Amoxiclav_Tab 500mg/125mg', 4644),\n",
       " ('Dermol 500_Lot', 4622),\n",
       " ('Hydroxychlor Sulf_Tab 200mg', 4608),\n",
       " ('Atenolol_Tab 100mg', 4606),\n",
       " ('Quetiapine_Tab 25mg', 4568),\n",
       " ('Betahistine HCl_Tab 16mg', 4567),\n",
       " ('Warfarin Sod_Tab 5mg', 4563),\n",
       " ('Ins Lantus SoloStar_100u/ml 3ml Pf Pen', 4556),\n",
       " ('Fenbid_Gel 5%', 4541),\n",
       " ('Felodipine_Tab 5mg M/R', 4535),\n",
       " ('Diprobase_Crm', 4506),\n",
       " ('Cyclizine HCl_Tab 50mg', 4433),\n",
       " ('Viscotears_Liq Gel 2mg/g', 4391),\n",
       " ('Seretide 500_Accuhaler 500mcg/50mcg(60D)', 4364),\n",
       " ('Calceos_Tab Chble 500mg/400u', 4306),\n",
       " ('Fusidic Acid_Crm 2%', 4266),\n",
       " ('Sumatriptan_Tab 50mg', 4200),\n",
       " ('Ranitidine HCl_Tab 300mg', 4158),\n",
       " ('Lisinopril_Tab 2.5mg', 4117),\n",
       " ('Procyclidine HCl_Tab 5mg', 4049),\n",
       " ('Lorazepam_Tab 1mg', 4046),\n",
       " ('Irbesartan_Tab 300mg', 4033),\n",
       " ('Paroxetine HCl_Tab 20mg', 4032),\n",
       " ('Clenil Modulite_Inha 50mcg (200D)', 4013),\n",
       " ('Lercanidipine HCl_Tab 20mg', 3978),\n",
       " ('Clotrimazole_Crm 1%', 3898),\n",
       " ('Ibuprofen_Gel 10%', 3886),\n",
       " ('Isosorbide Mononit_Tab 10mg', 3881),\n",
       " ('Pravastatin Sod_Tab 20mg', 3817),\n",
       " ('Nitrofurantoin_Cap 100mg M/R', 3801),\n",
       " ('Adcal-D3_Tab Chble (Lem)', 3797),\n",
       " ('Lymecycline_Cap 408mg', 3791),\n",
       " ('Omeprazole_Cap E/C 40mg', 3780),\n",
       " ('Paracet_Cap 500mg', 3760),\n",
       " ('Venlafaxine_Tab 75mg', 3755),\n",
       " ('Irbesartan_Tab 150mg', 3750),\n",
       " ('Colecal_Cap 800u', 3740),\n",
       " ('Solifenacin_Tab 10mg', 3699),\n",
       " ('Ins NovoRapid_FlexPen 100u/ml 3ml Pf Pen', 3672),\n",
       " ('Baclofen_Tab 10mg', 3664),\n",
       " ('Digoxin_Tab 62.5mcg', 3641),\n",
       " ('GlucoRx Nexus (Reagent)_Strips', 3637),\n",
       " ('Erythromycin_Tab E/C 250mg', 3610),\n",
       " ('Pregabalin_Cap 150mg', 3578),\n",
       " ('Clenil Modulite_Inha 200mcg (200D)', 3507),\n",
       " ('Felodipine_Tab 10mg M/R', 3484),\n",
       " ('Fexofenadine HCl_Tab 120mg', 3471),\n",
       " ('Zerobase Crm (Appl)', 3459),\n",
       " ('Oramorph_Oral Soln 10mg/5ml', 3459),\n",
       " ('Betahistine HCl_Tab 8mg', 3452),\n",
       " ('Gaviscon Advance_Liq (Peppermint) S/F', 3443),\n",
       " ('Temazepam_Tab 10mg', 3442),\n",
       " ('Doxazosin Mesil_Tab 1mg', 3433),\n",
       " ('Microgynon 30_Tab', 3408),\n",
       " ('Carbomer 980_Gel Eye Dps 0.2%', 3399),\n",
       " ('Aerochamber Plus + Adult/Child/Infant Ma', 3386),\n",
       " ('Metoclopramide HCl_Tab 10mg', 3371),\n",
       " ('Paracet_Oral Susp 250mg/5ml S/F', 3366),\n",
       " ('Clonazepam_Tab 500mcg', 3336),\n",
       " ('Betameth Val_Crm 0.1%', 3328),\n",
       " ('Pregabalin_Cap 300mg', 3314),\n",
       " ('Ins NovoMix 30_FlexPen 100u/ml 3ml PfPen', 3312),\n",
       " ('Beconase_Aq Nsl Spy 50mcg (200 D) 22g', 3288),\n",
       " ('Apixaban_Tab 2.5mg', 3287),\n",
       " ('Olanzapine_Tab 10mg', 3270),\n",
       " ('Promethazine HCl_Tab 25mg', 3259),\n",
       " ('Ensure Plus_Milkshake Style Liq(10 Flav)', 3248),\n",
       " ('Dapagliflozin_Tab 10mg', 3238),\n",
       " ('Aerochamber Plus', 3233),\n",
       " ('DuoResp Spiromax_Inh 160mcg/4.5mcg(120D)', 3208),\n",
       " ('Chlorphenamine Mal_Tab 4mg', 3204),\n",
       " ('Aviva (Reagent)_Strips', 3203),\n",
       " ('Symbicort_Turbohaler 400mcg/12mcg (60 D)', 3184),\n",
       " ('Nitrofurantoin_Tab 50mg', 3184),\n",
       " ('Prednisolone_Tab 1mg', 3168),\n",
       " ('Peptac_Liq (Peppermint) S/F', 3162),\n",
       " ('Paracet_Oral Susp Paed 120mg/5ml S/F', 3159),\n",
       " ('Prednisolone_Tab E/C 5mg', 3159),\n",
       " ('Ibuprofen_Oral Susp 100mg/5ml S/F', 3145),\n",
       " ('Cyanocobalamin_Tab 50mcg', 3139),\n",
       " ('Pregabalin_Cap 75mg', 3126),\n",
       " ('Fortisip Bottle_Liq (8 Flav)', 3077),\n",
       " ('Amoxicillin_Oral Susp 250mg/5ml', 3049),\n",
       " ('Lamotrigine_Tab 100mg', 3046),\n",
       " ('Paracet_Tab Solb 500mg', 3040),\n",
       " ('Nicorandil_Tab 20mg', 3023),\n",
       " ('Rigevidon_Tab', 3019),\n",
       " ('Ketoconazole_Shampoo 2%', 3015),\n",
       " ('Hylo-Forte Sod Hyaluronate Eye Dps 0.2%', 3009),\n",
       " ('Qvar 100_Inha 100mcg (200 D)', 3006),\n",
       " ('Letrozole_Tab 2.5mg', 2970),\n",
       " ('Cerelle_Tab 75mcg', 2962),\n",
       " ('Sod Cromoglicate_Eye Dps Aq 2%', 2962),\n",
       " ('Amoxicillin_Oral Susp 125mg/5ml S/F', 2936),\n",
       " ('Bisoprolol Fumar_Tab 3.75mg', 2926),\n",
       " ('Nitrofurantoin_Cap 50mg', 2913),\n",
       " ('Warfarin Sod_Tab 500mcg', 2908),\n",
       " ('Vit_Cap', 2888),\n",
       " ('Bisoprolol Fumar_Tab 7.5mg', 2883),\n",
       " ('Lansoprazole_Orodisper Tab 30mg', 2861),\n",
       " ('Candesartan Cilexetil_Tab 32mg', 2848),\n",
       " ('Duloxetine HCl_Cap G/R 30mg', 2845),\n",
       " ('Levetiracetam_Tab 500mg', 2798),\n",
       " ('Felodipine_Tab 2.5mg M/R', 2793),\n",
       " ('Co-Codamol Eff_Tab 30mg/500mg', 2781),\n",
       " ('Seretide 250_Evohaler 250mcg/25mcg(120D)', 2758),\n",
       " ('Metronidazole_Tab 400mg', 2746),\n",
       " ('Oxybutynin HCl_Tab 2.5mg', 2737),\n",
       " ('Rosuvastatin Calc_Tab 10mg', 2731),\n",
       " ('Lamotrigine_Tab 50mg', 2730),\n",
       " ('Zomorph_Cap 10mg', 2728),\n",
       " ('Esomeprazole_Tab E/C 40mg', 2721),\n",
       " ('Gabapentin_Tab 600mg', 2710),\n",
       " ('Quetiapine_Tab 100mg', 2701),\n",
       " ('Enalapril Mal_Tab 20mg', 2687),\n",
       " ('Sharpsafe 1L', 2658),\n",
       " ('Brinzolamide_Eye Dps 10mg/ml', 2652),\n",
       " ('Nitrazepam_Tab 5mg', 2648),\n",
       " ('Terbut Sulf_B/A Inha 500mcg (100 D)', 2641),\n",
       " ('Sod Algin/Pot Bicarb_Susp S/F', 2636),\n",
       " ('Ispag Husk_Gran Eff Sach 3.5g G/F S/F', 2622),\n",
       " ('Piroxicam_Gel 0.5%', 2586),\n",
       " ('Lacri-Lube_Ophth Oint', 2579),\n",
       " ('Movicol Plain_Paed Pdr Sach 6.9g', 2575),\n",
       " ('Isosorbide Mononit_Tab 20mg', 2558),\n",
       " ('Naproxen_Tab E/C 500mg', 2534),\n",
       " ('DuoResp Spiromax_Inh 320mcg/9mcg (60 D)', 2533),\n",
       " ('Tamoxifen Cit_Tab 20mg', 2510),\n",
       " ('Peptac_Liq (Aniseed) S/F', 2510),\n",
       " ('Mirabegron_Tab 50mg M/R', 2496),\n",
       " ('Fluticasone Fur_Nsl Spy 27.5mcg (120D)', 2486),\n",
       " ('Hux D3_Cap 20 000u', 2480),\n",
       " ('Sharpsguard 1L', 2476),\n",
       " ('Azathioprine_Tab 50mg', 2472),\n",
       " ('Quinine Bisulf_Tab 300mg', 2469),\n",
       " ('Olanzapine_Tab 5mg', 2464),\n",
       " ('Eplerenone_Tab 25mg', 2455),\n",
       " ('Ins NovoRapid_Penfill 100u/ml 3ml Cart', 2453),\n",
       " ('Tiotropium_Pdr For Inh Cap 18mcg + Dev', 2450),\n",
       " ('Avamys_Nsl Spy 27.5mcg (120D)', 2440),\n",
       " ('Depo-Provera_Inj 150mg/ml 1ml Pfs', 2434),\n",
       " ('Betameth Val/Fusidic Acid_Crm 0.1%/2%', 2401),\n",
       " ('Bimatoprost_Eye Dps 100mcg/ml', 2391),\n",
       " ('Fluticasone/Salmeterol_Inh 500/50mcg 60D', 2390),\n",
       " ('Rosuvastatin Calc_Tab 5mg', 2387),\n",
       " ('Gliclazide_Tab 30mg M/R', 2384),\n",
       " ('Pantoprazole_Tab E/C 40mg', 2382),\n",
       " ('Memantine HCl_Tab 20mg', 2365),\n",
       " ('Hydromol Oint', 2359),\n",
       " ('Pravastatin Sod_Tab 10mg', 2343),\n",
       " ('Contour Next (Reagent)_Strips', 2341),\n",
       " ('Pneumococcal_Vac 0.5ml Vl (23 Valent)', 2340),\n",
       " ('Rivaroxaban_Tab 15mg', 2335),\n",
       " ('Oxybutynin HCl_Tab 5mg', 2327),\n",
       " ('Dermol_Crm', 2250),\n",
       " ('Beclomet Diprop/Formoterol_Inh100/6(120D', 2247),\n",
       " ('Ins Humulin M3_KwikPen 100u/ml 3ml PfPen', 2225),\n",
       " ('Benzydamine HCl_Spy 0.15% 30ml S/F', 2216),\n",
       " ('Esomeprazole_Tab E/C 20mg', 2200),\n",
       " ('Trazodone HCl_Cap 50mg', 2195),\n",
       " ('Ticagrelor_Tab 90mg', 2175),\n",
       " ('Epaderm Oint', 2155),\n",
       " ('Epaderm Crm', 2146),\n",
       " ('Venlafaxine_Tab 37.5mg', 2144),\n",
       " ('Metoprolol Tart_Tab 50mg', 2135),\n",
       " ('Risedronate Sod_Tab 35mg', 2134),\n",
       " ('Clotrimazole_Pess 500mg/Crm 2%', 2131),\n",
       " ('Levetiracetam_Tab 250mg', 2130),\n",
       " ('Desunin_Tab 800u', 2128),\n",
       " ('Risperidone_Tab 500mcg', 2114),\n",
       " ('Venlafaxine_Tab 150mg M/R', 2112),\n",
       " ('Cetirizine HCl_Oral Soln 1mg/1ml S/F', 2112),\n",
       " ('Salamol E-Breathe_Inh 100mcg (200 D) CFF', 2110),\n",
       " ('Pregabalin_Cap 50mg', 2078),\n",
       " ('Orlistat_Cap 120mg', 2073),\n",
       " ('Chloramphen_Eye Oint 1%', 2060),\n",
       " ('Typhim VI_Vac 0.5ml Pfs', 2051),\n",
       " ('Clonidine HCl_Tab 25mcg', 2030),\n",
       " ('Hydrocort_Oint 1%', 2005),\n",
       " ('3m Health Care_Cavilon Durable Barrier C', 1998),\n",
       " ('Thiamine HCl_Tab 50mg', 1995),\n",
       " ('Chlorphenamine Mal_Oral Soln 2mg/5ml', 1980),\n",
       " ('Gaviscon Infant_Sach 2g (Dual Pack) S/F', 1978),\n",
       " ('Fluticasone/Salmeterol_Inh 250/25mcg120D', 1968),\n",
       " ('Azithromycin_Tab 250mg', 1962),\n",
       " ('Aq_Crm', 1957),\n",
       " ('Sirdupla_Inh 250mcg/25mcg (120D)', 1952),\n",
       " ('Seretide 125_Evohaler 125mcg/25mcg(120D)', 1945),\n",
       " ('Sod Bicarb_Cap 500mg', 1944),\n",
       " ('Zolpidem Tart_Tab 10mg', 1942),\n",
       " ('Paracet_Oral Susp Paed 120mg/5ml', 1934),\n",
       " ('Dioralyte_Pdr Sach (Blkcurrant)', 1932),\n",
       " ('Trimethoprim_Tab 100mg', 1912),\n",
       " ('Ipratrop Brom_Inha 20mcg (200 D) CFF', 1905),\n",
       " ('Salbutamol_Inh Soln 2.5mg/2.5ml Ud', 1896),\n",
       " ('Risperidone_Tab 1mg', 1895),\n",
       " ('Hypromellose_Eye Dps 0.5%', 1890),\n",
       " ('Pantoprazole_Tab E/C 20mg', 1887),\n",
       " ('Irbesartan_Tab 75mg', 1881),\n",
       " ('Isosorbide Mononit_Tab 60mg M/R', 1880),\n",
       " ('Epilim Chrono 500_Tab 500mg C/R', 1878),\n",
       " ('Zerocream (Appl)', 1872),\n",
       " ('Alfuzosin HCl_Tab 10mg M/R', 1871),\n",
       " ('Mobile (Reagent)_Strips', 1871),\n",
       " ('Betameth Val_Scalp Applic 0.1%', 1869),\n",
       " ('Lamotrigine_Tab 25mg', 1866),\n",
       " ('Candesartan Cilexetil_Tab 2mg', 1863),\n",
       " ('Diclofenac Sod_Tab E/C 50mg', 1855),\n",
       " ('Miconazole Nit_Crm 2%', 1854),\n",
       " ('Dosulepin HCl_Cap 25mg', 1853),\n",
       " ('Ramipril_Tab 5mg', 1841),\n",
       " ('Quetiapine_Tab 200mg', 1829),\n",
       " ('Clobet But_Crm 0.05%', 1825),\n",
       " ('Domperidone_Tab 10mg', 1817),\n",
       " ('Enalapril Mal_Tab 10mg', 1808),\n",
       " ('Evacal D3_Tab Chble 400u/1.5g', 1803),\n",
       " ('Nystan_Susp (Ready Mixed)', 1799),\n",
       " ('Ciprofloxacin_Tab 500mg', 1799),\n",
       " ('Timodine_Crm', 1784),\n",
       " ('Aripiprazole_Tab 10mg', 1782),\n",
       " ('Alfacalcidol_Cap 250ng', 1777),\n",
       " ('Liraglutide_Inj 6mg/ml 3ml PF Pen', 1776),\n",
       " ('Nortriptyline_Tab 10mg', 1773),\n",
       " ('Escitalopram_Tab 10mg', 1769),\n",
       " ('Tegretol Prolonged Release_Tab 200mg M/R', 1767),\n",
       " ('Pregabalin_Cap 100mg', 1766),\n",
       " ('Revaxis_Vac 0.5ml Pfs', 1764),\n",
       " ('Clinitas Carbomer Eye Gel', 1754),\n",
       " ('Trimethoprim_Oral Susp 50mg/5ml S/F', 1748),\n",
       " ('Mebeverine HCl_Cap 200mg M/R', 1747),\n",
       " ('Dipyridamole_Cap 200mg M/R', 1742),\n",
       " ('Tolterodine_Tab 2mg', 1739),\n",
       " ('Hydrocort Acet/Fusidic Acid_Crm 1%/2%', 1725),\n",
       " ('Quetiapine_Tab 300mg', 1723),\n",
       " ('Salmeterol_Inha 25mcg (120 D) CFF', 1719),\n",
       " ('Bimatoprost/Timolol_Eye Dps 300mcg/5mg', 1718),\n",
       " ('Fludrocort Acet_Tab 100mcg', 1718),\n",
       " ('Priadel_Tab 400mg', 1716),\n",
       " ('Oxytetracycline_Tab 250mg', 1714),\n",
       " ('FastClix Lancets 0.3mm/30 Gauge', 1713),\n",
       " ('Relvar Ellipta_Inha 92mcg/22mcg (30 D)', 1707),\n",
       " ('Tranexamic Acid_Tab 500mg', 1692),\n",
       " ('Carbimazole_Tab 5mg', 1686),\n",
       " ('Amoxicillin_Cap 250mg', 1684),\n",
       " ('Donepezil HCl_Tab 5mg', 1682),\n",
       " ('Ins Levemir_FlexPen 100u/ml 3ml Pf Pen', 1677),\n",
       " ('Fenbid Fte_Gel 10%', 1666),\n",
       " ('Tiotropium_Inha 2.5mcg (60D) CFF + Dev', 1665),\n",
       " ('Cinnarizine_Tab 15mg', 1659),\n",
       " ('Capasal_Therapeutic Shampoo', 1655),\n",
       " ('Nefopam HCl_Tab 30mg', 1652),\n",
       " ('Betameth Val_Oint 0.1%', 1650),\n",
       " ('Dosulepin HCl_Tab 75mg', 1639),\n",
       " ('Colchicine_Tab 500mcg', 1635),\n",
       " ('Zomorph_Cap 30mg', 1632),\n",
       " ('Spiriva_Pdr For Inh Cap 18mcg', 1623),\n",
       " ('Terbinafine HCl_Tab 250mg', 1619),\n",
       " ('Oilatum Jnr_Bath Additive', 1615),\n",
       " ('Phenoxymethylpenicillin_Soln 125mg/5ml', 1612),\n",
       " ('Fluticasone Prop_Nsl Spy 50mcg (150 D)', 1608),\n",
       " ('Anastrozole_Tab 1mg', 1605),\n",
       " ('TEE2 (Reagent)_Strips', 1605),\n",
       " ('Dermol 200_Shower Emollient', 1602),\n",
       " ('Fluticasone/Salmeterol_Inh 125/25mcg120D', 1593),\n",
       " ('Dorzolamide/Timolol_Eye Dps 2%/0.5%', 1592),\n",
       " ('Nebivolol_Tab 5mg', 1571),\n",
       " ('Phenytoin_Sod Cap 100mg', 1569),\n",
       " ('Movicol_Pdr Sach 13.8g (Lem & Lim)', 1553),\n",
       " ('Venlafaxine_Tab 75mg M/R', 1552),\n",
       " ('Budesonide/Formoterol Inh B/A 200/6(120D', 1551),\n",
       " ('Sirdupla_Inh 125mcg/25mcg (120D)', 1550),\n",
       " ('Diethylamine Sal_Crm 10% BP', 1543),\n",
       " ('Glimepiride_Tab 4mg', 1535),\n",
       " ('FreeStyle Optium (Reagent)_Strips', 1528),\n",
       " ('Hydroxyzine HCl_Tab 25mg', 1523),\n",
       " ('Adalat LA 30_Tab 30mg', 1521),\n",
       " ('Escitalopram_Tab 20mg', 1518),\n",
       " ('H & R_Proshield Plus Skin Prote 115g', 1515),\n",
       " ('BD Micro-Fine Ultra Needles Pen Inj Scre', 1509),\n",
       " ('Alogliptin_Tab 25mg', 1508),\n",
       " ('Amiodarone HCl_Tab 200mg', 1501),\n",
       " ('Hydrocort_Tab 10mg', 1499),\n",
       " ('Rosuvastatin Calc_Tab 20mg', 1499),\n",
       " ('Senna_Oral Soln 7.5mg/5ml S/F', 1493),\n",
       " ('Microlet Lancets 0.5mm/28 Gauge', 1488),\n",
       " ('Temazepam_Tab 20mg', 1479),\n",
       " ('Gabapentin_Cap 400mg', 1479),\n",
       " ('Pioglitazone HCl_Tab 30mg', 1475),\n",
       " ('Ivabradine_Tab 5mg', 1464),\n",
       " ('Trazodone HCl_Cap 100mg', 1463),\n",
       " ('Prednisolone_Tab Solb 5mg', 1458),\n",
       " ('Sulfasalazine_Tab E/C 500mg', 1454),\n",
       " ('WaveSense JAZZ (Reagent)_Strips', 1450),\n",
       " ('ZeroAQS Crm', 1450),\n",
       " ('Fortisip Compact_Liq (8 Flav)', 1450),\n",
       " ('Pizotifen Malate_Tab 500mcg', 1444),\n",
       " ('Clarithromycin_Tab 250mg', 1443),\n",
       " ('Ibuprofen_Tab 200mg', 1433),\n",
       " ('Sitagliptin_Tab 50mg', 1430),\n",
       " ('Paroxetine HCl_Tab 30mg', 1421),\n",
       " ('Fluclox Sod_Cap 250mg', 1420),\n",
       " ('Seretide 250_Accuhaler 250mcg/50mcg(60D)', 1413),\n",
       " ('Naproxen_Tab E/C 250mg', 1404),\n",
       " ('Qvar 50_Inha 50mcg (200 D)', 1402),\n",
       " ('Cefalexin_Cap 500mg', 1401),\n",
       " ('Sudocrem_Antis Healing Crm', 1400),\n",
       " ('Algesal_Crm 10%', 1399),\n",
       " ('Memantine HCl_Tab 10mg', 1395),\n",
       " ('Olanzapine_Tab 2.5mg', 1392),\n",
       " ('Lyrica_Cap 300mg', 1380),\n",
       " ('Norethist_Tab 5mg', 1377),\n",
       " ('Peppermint Oil_Cap E/C 0.2ml', 1370),\n",
       " ('Clobet But_Oint 0.05%', 1360),\n",
       " ('Ramipril_Tab 10mg', 1359),\n",
       " ('Nystatin_Oral Susp 100 000u/ml', 1358),\n",
       " ('Paracet_Oral Susp 250mg/5ml', 1356),\n",
       " ('Tegretol Prolonged Release_Tab 400mg M/R', 1354),\n",
       " ('Pregabalin_Cap 25mg', 1353),\n",
       " ('Hydrocort/Clotrimazole_Crm 1%/1%', 1345),\n",
       " ('Buscopan_Tab 10mg', 1345),\n",
       " ('Co-Codamol Eff_Tab 8mg/500mg', 1327),\n",
       " ('Lyrica_Cap 150mg', 1326),\n",
       " ('Travoprost_Eye Dps 40mcg/ml', 1326),\n",
       " ('Aspen_Sorbaderm Barrier Crm 92g', 1325),\n",
       " ('Glyceryl Trinit_Sub A/Spy 400mcg (180D)', 1316),\n",
       " ('Carbamazepine_Tab 100mg', 1316),\n",
       " ('Bezafibrate_Tab 400mg M/R', 1311),\n",
       " ('Spironol_Tab 50mg', 1310),\n",
       " ('TheiCal D-3_Tab Chble 1000mg/880u', 1302),\n",
       " ('Co-Amilofruse_Tab 5mg/40mg', 1301),\n",
       " ('Montelukast_Tab Chble 5mg S/F', 1300),\n",
       " ('Ventolin_Accuhaler 200mcg (60 D)', 1293),\n",
       " ('Venlafaxine_Tab 225mg M/R', 1291),\n",
       " ('Carbamazepine_Tab 200mg', 1285),\n",
       " ('Vensir XL_Cap 150mg', 1285),\n",
       " ('Sod Valpr_Tab E/C 200mg', 1283),\n",
       " ('Topiramate_Tab 25mg', 1283),\n",
       " ('Chemydur 60 XL_Tab 60mg', 1281),\n",
       " ('Cerazette_Tab 75mcg', 1276),\n",
       " ('BD Microfine+ Needles Pen Inj Screw On 5', 1275),\n",
       " ('Risperidone_Tab 2mg', 1273),\n",
       " ('Epilim Chrono 300_Tab 300mg C/R', 1273),\n",
       " ('Amoxicillin_Oral Susp 125mg/5ml', 1269),\n",
       " ('Doxazosin Mesil_Tab 8mg M/R', 1260),\n",
       " ('Prochlpzine Mal_Tab Buccal 3mg', 1260),\n",
       " ('GlucoRx Lancets 0.31mm/30 Gauge', 1257),\n",
       " ('Oilatum_Crm (New Form) (Liq)', 1255),\n",
       " ('Propranolol HCl_Cap 160mg M/R', 1255),\n",
       " ('Lansoprazole_Orodisper Tab 15mg', 1244),\n",
       " ('Fluconazole_Cap 150mg', 1241),\n",
       " ('Phenoxymethylpenicillin_Soln 250mg/5ml', 1238),\n",
       " ('Ganfort_Eye Dps 300mcg/5mg', 1233),\n",
       " ('Abidec_Dps', 1233),\n",
       " ('Fybogel_Gran Sach 3.5g Orange G/F S/F', 1226),\n",
       " ('Tadalafil_Tab 20mg', 1225),\n",
       " ('Mometasone Fur_Oint 0.1%', 1222),\n",
       " ('Dressit Ster Dress Pack', 1212),\n",
       " ('Ramipril_Tab 2.5mg', 1205),\n",
       " ('Zapain_Cap 30mg/500mg', 1201),\n",
       " ('Phyllocontin Continus_Tab 225mg', 1200),\n",
       " ('Prednisolone_Tab E/C 2.5mg', 1199),\n",
       " ('Fortijuce_Liq (7 Flav)', 1197),\n",
       " ('Sumatriptan_Tab 100mg', 1195),\n",
       " ('Lyrica_Cap 75mg', 1192),\n",
       " ('Lacidipine_Tab 4mg', 1191),\n",
       " ('Fostair NEXThaler_Inh 100mcg/6mcg (120D)', 1189),\n",
       " ('Mst Continus_Tab 10mg', 1188),\n",
       " ('Canagliflozin_Tab 100mg', 1187),\n",
       " ('Trazodone HCl_Tab 150mg', 1185),\n",
       " ('Levetiracetam_Tab 1g', 1183),\n",
       " ('Buprenorphine_Patch 10mcg/hr (7day)', 1181),\n",
       " ('Movelat_Gel', 1174),\n",
       " ('Melatonin_Tab 2mg M/R', 1173),\n",
       " ('Uniphyllin Continus_Tab 200mg', 1171),\n",
       " ('Fluticasone/Salmeterol_Inh 50/25mcg 120D', 1168),\n",
       " ('Pioglitazone HCl_Tab 45mg', 1162),\n",
       " ('Clotrimazole_Crm 2%', 1162),\n",
       " ('Valupak_Vit D3 Tab 1 000u', 1158),\n",
       " ('Topiramate_Tab 50mg', 1157),\n",
       " ('Betnovate_Crm 0.1%', 1156),\n",
       " ('Optive 0.5% Carmellose Eye Dps 10ml', 1146),\n",
       " ('Pizotifen Malate_Tab 1.5mg', 1145),\n",
       " ('Tegretol_Tab 200mg', 1144),\n",
       " ('Buprenorphine_Patch 5mcg/hr (7day)', 1139),\n",
       " ('Pregabalin_Cap 200mg', 1138),\n",
       " ('Dutasteride_Cap 500mcg', 1135),\n",
       " ('Naseptin_Crm', 1135),\n",
       " ('Glimepiride_Tab 2mg', 1131),\n",
       " ('Mirtazapine_Orodisper Tab 45mg', 1125),\n",
       " ('Cefalexin_Cap 250mg', 1122),\n",
       " ('Aciclovir_Tab 400mg', 1121),\n",
       " ('Circadin_Tab 2mg M/R', 1112),\n",
       " ('Paracet_Oral Soln Paed 120mg/5ml S/F', 1112),\n",
       " ('Hylo-Tear Sod Hyaluronate Eye Dps 0.1% P', 1111),\n",
       " ('Olanzapine_Tab 20mg', 1111),\n",
       " ('Priadel_Tab 200mg', 1110),\n",
       " ('Ins Humulin I_KwikPen 100u/ml 3ml Pf Pen', 1105),\n",
       " ('Quetiapine_Tab 150mg', 1102),\n",
       " ('Digoxin_Tab 250mcg', 1101),\n",
       " ('CareSens N (Reagent)_Strips', 1100),\n",
       " ('Voltarol Emulgel_Aq Gel 1.16%', 1099),\n",
       " ('Brimonidine Tart_Eye Dps 0.2%', 1093),\n",
       " ('Simvastatin_Tab 80mg', 1093),\n",
       " ('Tolterodine_Cap 4mg M/R', 1093),\n",
       " ('Latanoprost/Timolol_Eye Dps 50mcg/5mg/ml', 1092),\n",
       " ('Clobazam_Tab 10mg', 1092),\n",
       " ('Bendroflumethiazide_Tab 5mg', 1086),\n",
       " ('Forceval_Cap', 1079),\n",
       " ('Gaviscon Advance_Tab Chble Mint(Reckitt)', 1078),\n",
       " ('Pioglitazone HCl_Tab 15mg', 1077),\n",
       " ('TRUEyou (Reagent)_Strips', 1076),\n",
       " ('Zolpidem Tart_Tab 5mg', 1075),\n",
       " ('Colecal & Calc_Tab 200u/750mg', 1071),\n",
       " ('Fluclox Sod_Oral Soln 125mg/5ml', 1068),\n",
       " ('Care Olive Oil Ear Dps Ear Wax Softening', 1068),\n",
       " ('Butec_Transdermal Patch 10mcg/hr', 1066),\n",
       " ('Mometasone Fur_Crm 0.1%', 1065),\n",
       " ('Sotalol HCl_Tab 40mg', 1061),\n",
       " ('Aveeno_Bath Oil', 1060),\n",
       " ('Lamotrigine_Tab 200mg', 1053),\n",
       " ('Folic Acid_Tab 400mcg', 1053),\n",
       " ('Seretide 50_Evohaler 50mcg/25mcg (120 D)', 1042),\n",
       " ('Hydrocort_Crm 0.5%', 1038),\n",
       " ('Budesonide/Formoterol Inh B/A 400/12(60D', 1036),\n",
       " ('Depakote_Tab G/R 500mg', 1035),\n",
       " ('Simple_Linct S/F', 1032),\n",
       " ('Zeroderm Oint', 1031),\n",
       " ('Epilim Chrono 200_Tab 200mg C/R', 1031),\n",
       " ('Mefenamic Acid_Tab 500mg', 1029),\n",
       " ('Doxazosin Mesil_Tab 4mg M/R', 1023),\n",
       " ('Calcipotriol/Betameth_Oint 0.005%/0.05%', 1022),\n",
       " ('Spironol_Tab 100mg', 1022),\n",
       " ('Daktacort_Crm 2%/1%', 1019),\n",
       " ('Enalapril Mal_Tab 5mg', 1017),\n",
       " ('Carbocisteine_Oral Soln 250mg/5ml', 1016),\n",
       " ('Diazepam_Tab 10mg', 1015),\n",
       " ('Ferr Fumar_Tab 322mg', 1014),\n",
       " ('Salamol_Inha 100mcg (200 D) CFF (Teva)', 1011),\n",
       " ('Ferr Fumar_Cap 305mg', 1008),\n",
       " ('Sukkarto SR_Tab 500mg', 1008),\n",
       " ('Calcichew D3_Tab Chble', 1006),\n",
       " ('Creon 25000_Cap E/C', 1005),\n",
       " ('Vagifem_Vag Tab 10mcg', 996),\n",
       " ('Butec_Transdermal Patch 5mcg/hr', 993),\n",
       " ('Cilest_Tab', 993),\n",
       " ('Vensir XL_Cap 75mg', 990),\n",
       " ('Fostair_Inh 200mcg/6mcg (120D) CFF', 989),\n",
       " ('Liquifilm 1.4% Polyvinyl Alcohol Eye Dps', 989),\n",
       " ('Clobetasol Prop_Oint 0.05%', 989),\n",
       " ('Sod Valpr_Tab E/C 500mg', 984),\n",
       " ('Flexitol Urea Heel Balm', 981),\n",
       " ('Hydrocort/Miconazole Nit_Oint 1%/2%', 981),\n",
       " ('Colecal_Cap 20 000u', 976),\n",
       " ('Aripiprazole_Tab 15mg', 975),\n",
       " ('Inadine 5cm x 5cm Povidone Iodine Fabric', 971),\n",
       " ('Pramipexole_Tab 88mcg', 971),\n",
       " ('Incruse Ellipta_Inh 55mcg (30D)', 967),\n",
       " ('Adcal-D3_Dissolve Tab Eff 1.5g/400u(Lem)', 957),\n",
       " ('Easyhaler_Salbutamol Sulf 100mcg (200D)', 956),\n",
       " ('Adalat LA 60_Tab 60mg', 954),\n",
       " ('Seebri_Breezhaler Inh Cap 55mcg + Dev', 953),\n",
       " ('Spiriva Respimat_Inha 2.5mcg (60D) + Dev', 952),\n",
       " ('Estradiol_Pess 10mcg', 948),\n",
       " ('Fucibet_Crm', 944),\n",
       " ('Medroxyprogest Acet_Inj 150mg/ml 1ml Pfs', 940),\n",
       " ('Omeprazole_Tab E/C 20mg', 940),\n",
       " ('Clobetasol Prop_Crm 0.05%', 939),\n",
       " ('Aciclovir_Tab 800mg', 936),\n",
       " ('Erythromycin/Zn Acet_Lot 40mg/Ml/12mg/ml', 929),\n",
       " ('Difflam_P/Spy 0.15% 30ml', 929),\n",
       " ('Dorzolamide_Eye Dps 2%', 927),\n",
       " ('Lacidipine_Tab 2mg', 926),\n",
       " ('Xailin Night Paraf Eye Oint P/F 5g', 925),\n",
       " ('Dermol 600_Bath Emollient', 922),\n",
       " ('Meloxicam_Tab 15mg', 916),\n",
       " ('Salbutamol_Inh Soln 5mg/2.5ml Ud', 910),\n",
       " ('Rabeprazole Sod_Tab E/C 20mg', 907),\n",
       " ('Ferr Glucon_Tab 300mg', 906),\n",
       " ('Creon 10000_Cap E/C', 904),\n",
       " ('Co-Codamol_Cap 15mg/500mg', 903),\n",
       " ('White Soft Paraf/Liq Paraf_(S) 50%/50%', 901),\n",
       " ('Tildiem LA 200_Cap 200mg', 900),\n",
       " ('Tegretol_Tab 100mg', 900),\n",
       " ('Nitrofurantoin_Tab 100mg', 899),\n",
       " ('Co-Careldopa_Tab 25mg/100mg', 894),\n",
       " ('Yasmin_Tab', 893),\n",
       " ('Contour TS (Reagent)_Strips', 891),\n",
       " ('Sulfasalazine_Tab 500mg', 890),\n",
       " ('Estriol_Crm 0.01% + Applic', 889),\n",
       " ('Systane Hydroxypropyl Guar Eye Dps 10ml', 887),\n",
       " ('Moxonidine_Tab 200mcg', 881),\n",
       " ('Ranitidine HCl_Oral Soln 75mg/5ml S/F', 880),\n",
       " ('Longtec_Tab 10mg M/R', 878),\n",
       " ('Zerodouble Gel', 871),\n",
       " ('Imuvac_Vac 0.5ml Pfs', 859),\n",
       " ('Colecal_Tab 800u', 858),\n",
       " ('Chlorhex HCl/Neomycin Sulf_Crm 0.1/0.5%', 855),\n",
       " ('Mst Continus_Tab 30mg', 855),\n",
       " ('Empagliflozin_Tab 10mg', 849),\n",
       " ('Chlorhex Glucon_Mthwsh 0.2%', 848),\n",
       " ('Fluconazole_Cap 50mg', 847),\n",
       " ('Fluticasone/Salmeterol_Inh 250/50mcg 60D', 846),\n",
       " ('Oilatum_Emollient', 845),\n",
       " ('Isosorbide Mononit_Cap 25mg M/R', 844),\n",
       " ('FreeStyle Lite (Reagent)_Strips', 841),\n",
       " ('Fusidic Acid_Viscous Eye Dps 1%', 841),\n",
       " ('Mirtazapine_Orodisper Tab 15mg', 840),\n",
       " ('Emla_Crm 5%', 837),\n",
       " ('Aripiprazole_Tab 5mg', 834),\n",
       " ('Oxycodone HCl_Oral Soln 5mg/5ml S/F', 834),\n",
       " ('Conotrane_Crm', 827),\n",
       " ('Lumigan_Eye Dps 100mcg/ml', 823),\n",
       " ('OneTouch Verio (Reagent)_Strips', 822),\n",
       " ('Morph Sulf_Tab 10mg M/R', 822),\n",
       " ('Sterimar Isotonic Nsl Spy 50ml', 819),\n",
       " ('Montelukast_Tab Chble 4mg S/F', 819),\n",
       " ('E45_Itch Relief Crm', 819),\n",
       " ('Salazopyrin-En_Tab 500mg', 815),\n",
       " ('Fultium-D3_Cap 20 000u', 810),\n",
       " ('Omnican Fine Needles Pen Inj Screw On 4m', 810),\n",
       " ('Movicol Plain_Pdr Sach 13.7g', 806),\n",
       " ('Volumatic', 803),\n",
       " ('Sod Feredetate_Oral Soln 190mg/5ml S/F', 802),\n",
       " ('Flecainide Acet_Tab 50mg', 802),\n",
       " ('Ins Lantus_100u/ml 3ml Cart', 799),\n",
       " ('Sinemet-Plus_Tab 125mg', 791),\n",
       " ('Omeprazole_Tab Disper 20mg (E/C Pellets)', 791),\n",
       " ('Thick & Easy_Food Thickener', 790),\n",
       " ('Glucophage SR_Tab 500mg', 789),\n",
       " ('Meloxicam_Tab 7.5mg', 786),\n",
       " ('Lido_Medic Plastr 5%', 785),\n",
       " ('Diprobase_Oint', 784),\n",
       " ('Benzoyl Per/Clindamycin Phos_Gel 5%/1%', 782),\n",
       " ('Neditol XL_Cap 4mg', 781),\n",
       " ('Lofepramine HCl_Tab 70mg', 780),\n",
       " ('Alverine Cit_Cap 60mg', 776),\n",
       " ('Simple_Linct Paed S/F', 774),\n",
       " ('Marol_Tab 100mg M/R (Teva)', 774),\n",
       " ('Sotalol HCl_Tab 80mg', 772),\n",
       " ('Esomeprazole_Cap E/C 40mg', 770),\n",
       " ('Betameth Val_Crm 0.025% (1 in 4)', 769),\n",
       " ('Fenofibrate_Tab 160mg (Micronised)', 768),\n",
       " ('Hydromol_Bath & Shower Emollient', 767),\n",
       " ('InVita D3_Oral Soln 25 000u/1ml', 766),\n",
       " ('Saxagliptin_Tab 5mg', 766),\n",
       " ('Scheriproct_Oint', 765),\n",
       " ('Permethrin_Crm 5%', 764),\n",
       " ('H & R_Proshield Foam & Spy Skin Cleanser', 763),\n",
       " ('Olanzapine_Tab 15mg', 759),\n",
       " ('Co-Codamol_Cap 8mg/500mg', 751),\n",
       " ('Aciclovir_Tab 200mg', 751),\n",
       " ('Topiramate_Tab 100mg', 750),\n",
       " ('Sod Picosulf_Oral Soln 5mg/5ml S/F', 750),\n",
       " ('Ins Levemir_Penfill 100u/ml 3ml Cart', 749),\n",
       " ('CosmoCol_Oral Pdr Sach (Orange)', 748),\n",
       " ('Aveeno_Lot', 742),\n",
       " ('Contour (Reagent)_Strips', 742),\n",
       " ('Salicylic Acid/Mucopolysac_Gel 2%/0.2%', 741),\n",
       " ('Aciclovir_Crm 5%', 740),\n",
       " ('Glimepiride_Tab 1mg', 739),\n",
       " ('Midazolam HCl_Inj 5mg/ml 2ml Amp', 739),\n",
       " ('Symbicort_Turbohaler 100mcg/6mcg (120 D)', 737),\n",
       " ('Epimax Crm 500g', 736),\n",
       " ('Liq Paraf/Isopropyl Myrist_Gel 15%/15%', 732),\n",
       " ('Nortriptyline_Tab 25mg', 732),\n",
       " ('Diclofenac Sod_Gel 2.32%', 731),\n",
       " ('Calcipotriol_Oint 50mcg/1g', 729),\n",
       " ('Ranolazine_Tab 375mg M/R', 728),\n",
       " ('Ins NovoMix 30_Penfill 100u/ml 3ml Cart', 726),\n",
       " ('Ursodeoxycholic Acid_Cap 250mg', 722),\n",
       " ('Flixonase_Aq Nsl Spy 50mcg (150 D)', 720),\n",
       " ('Tramadol HCl_Cap 100mg M/R', 719),\n",
       " ('Rasagiline Mesil_Tab 1mg', 716),\n",
       " ('Varenicline Tart_Tab 1mg', 715),\n",
       " ('Ins Humalog_100u/ml 3ml Cart', 712),\n",
       " ('Adalat LA 20_Tab 20mg', 711),\n",
       " ('K-Lite 10cm x 4.5m M/Layer Compress Band', 710),\n",
       " ('Oxybutynin HCl_Tab 5mg M/R', 710),\n",
       " ('CliniSupplies_ProSys Night Bag Non-Ster', 707),\n",
       " ('CareSens Lancets 0.36mm/28 Gauge', 705),\n",
       " ('Eumovate_Crm 0.05%', 704),\n",
       " ('Sukkarto SR_Tab 1000mg', 701),\n",
       " ('Amorolfine HCl_Nail Lacquer Kit 5% 5ml', 700),\n",
       " ('Miconazole_Oromucosal Gel 20mg/g S/F', 698),\n",
       " ('Asacol_MR Tab E/C 400mg', 694),\n",
       " ('Lyrica_Cap 50mg', 694),\n",
       " ('Terbinafine HCl_Crm 1%', 693),\n",
       " ('Tramadol HCl_Tab 100mg M/R', 692),\n",
       " ('Dihydrocodeine Tart_Tab 60mg M/R', 691),\n",
       " ('Clarithromycin_Oral Susp 125mg/5ml', 689),\n",
       " ('Esomeprazole_Cap E/C 20mg', 688),\n",
       " ('Oilatum Plus_Bath Additive', 686),\n",
       " ('Alfacalcidol_Cap 500ng', 682),\n",
       " ('Salbutamol_Pdr For Inh 200mcg (60 D)', 681),\n",
       " ('GlucoLab (Reagent)_Strips', 679),\n",
       " (\"Glycerol_Suppos Adult's (4g)\", 676),\n",
       " ('Anoro Ellipta_Inha 55mcg/22mcg (30D)', 675),\n",
       " ('Promethazine HCl_Tab 10mg', 674),\n",
       " ('Ins Humulin M3_100u/ml 3ml Cart', 673),\n",
       " ('K-Soft 10cm x 3.5m M/Layer Compress Band', 673),\n",
       " ('Irripod Sod Chlor Top Irrig 20ml', 673),\n",
       " ('Azathioprine_Tab 25mg', 672),\n",
       " ('Eklira_Inh 322mcg (60D) (Genuair)', 670),\n",
       " ('Metformin HCl_Tab 750mg M/R', 669),\n",
       " ('Trospium Chlor_Cap 60mg M/R', 666),\n",
       " ('Celluvisc_Eye Dps 0.5% 0.4ml Ud', 664),\n",
       " ('Timolol_Eye Dps 0.5%', 664),\n",
       " ('Influvac Sub-Unit_Vac 0.5ml Pfs', 662),\n",
       " ('Longtec_Tab 20mg M/R', 661),\n",
       " ('Havrix Monodose_Vac 1440u/ml 1ml Pfs', 661),\n",
       " ('OneTouch Ultra (Reagent)_Strips', 658),\n",
       " ('Azopt_Eye Dps 10mg/ml', 657),\n",
       " ('Ethinylest/Levonorgest_Tab 30/150mcg', 655),\n",
       " ('Class 11 Stnd C/Kt B/Knee Stkn Elas Hose', 650),\n",
       " ('Calcipotriol/Betameth_Gel 0.005%/0.05%', 650),\n",
       " ('Betnovate_Oint 0.1%', 649),\n",
       " ('GlucoMen areo Sensor (Reagent)_Strips', 649),\n",
       " ('CareSens Lancets 0.31mm/30 Gauge', 648),\n",
       " ('Dalivit_Dps', 647),\n",
       " ('Micronor_Tab 350mcg', 641),\n",
       " ('Preservision_Lutein Cap', 641),\n",
       " ('NovoFine Needles Pen Inj Screw On 6mm', 639),\n",
       " ('T & R Sod Bicarb Ear Dps 5% Ear Wax Soft', 637),\n",
       " ('Co-Careldopa_Tab 12.5mg/50mg', 635),\n",
       " ('Trimovate_Crm', 633),\n",
       " ('Performa (Reagent)_Strips', 628),\n",
       " ('Glucophage SR_Tab 1000mg', 627),\n",
       " ('Zolmitriptan_Tab 2.5mg', 627),\n",
       " ('Aclidinium Brom_Pdr For Inh 375mcg (60D)', 626),\n",
       " ('Epilim 200_Tab E/C 200mg', 626),\n",
       " ('Benzydamine HCl_Mthwsh 0.15% S/F', 624),\n",
       " ('Colofac_Tab 135mg', 622),\n",
       " ('Mirtazapine_Orodisper Tab 30mg', 622),\n",
       " ('BD Microfine+ Needles Pen Inj Screw On 8', 621),\n",
       " ('Brinzolamide/Timolol_Eye Dps 10mg/5mg/ml', 619),\n",
       " ('Methocarbamol_Tab 750mg', 619),\n",
       " ('Colecal & Calc_Tab Eff 400u/1.5g (Lem)', 618),\n",
       " ('Tamsulosin HCl_Tab 400mcg M/R', 615),\n",
       " ('Glandosane A/Spy 50ml (App)', 615),\n",
       " ('Dovobet_Gel 0.005%/0.05%', 612),\n",
       " ('Nasonex_Aq N/Spy 50mcg (140 D)', 610),\n",
       " ('Butec_Transdermal Patch 20mcg/hr', 607),\n",
       " ('Resource_ThickenUp Pdr Clr', 606),\n",
       " ('Non-Woven Fabric Swab 10cm x 10cm Non-St', 603),\n",
       " ('Pholcodine_Linct 5mg/5ml S/F', 600),\n",
       " ('Promazine HCl_Oral Soln 25mg/5ml', 598),\n",
       " ('Ins Humalog_KwikPen 100u/ml 3ml Pf Pen', 597),\n",
       " ('Dabigatran Etexilate_Cap 110mg', 597),\n",
       " ('Tibolone_Tab 2.5mg', 596),\n",
       " ('Fesoterodine Fumar_Tab 4mg M/R', 594),\n",
       " ('Tears Naturale_Eye Dps', 594),\n",
       " ('Capsaicin_Crm 0.025%', 594),\n",
       " ('Isosorbide Mononit_Cap 60mg M/R', 594),\n",
       " ('Tamsulosin/Dutasteride HCl_Cap 0.4/0.5mg', 593),\n",
       " ('Amisulpride_Tab 200mg', 591),\n",
       " ('Active (Reagent)_Strips', 591),\n",
       " ('Flutiform_Inha 250/10mcg (120 D)', 591),\n",
       " ('Canagliflozin_Tab 300mg', 591),\n",
       " ('Nifedipine_Cap 5mg', 589),\n",
       " ('Alphosyl_Shampoo 2 In 1', 589),\n",
       " ('Valproic Acid_Tab G/R 500mg', 589),\n",
       " ('Timolol_Eye Dps 0.25%', 589),\n",
       " ('Depakote_Tab G/R 250mg', 588),\n",
       " ('Loperamide HCl_Tab 2mg', 588),\n",
       " ('Tildiem LA 300_Cap 300mg', 587),\n",
       " ('Anusol HC_Oint', 585),\n",
       " ('Escitalopram_Tab 5mg', 585),\n",
       " ('Aveeno_Body Wash', 584),\n",
       " ('Carmellose Sod_Eye Dps 0.5% 0.4ml Ud P/F', 583),\n",
       " ('Oxybutynin HCl_Tab 10mg M/R', 582),\n",
       " ('Ensure Compact_Liq (4 Flav)', 581),\n",
       " ('Sod Valpr_Oral Soln 200mg/5ml S/F', 581),\n",
       " ('Pivmecillinam HCl_Tab 200mg', 581),\n",
       " ('Montelukast_Gran Sach 4mg S/F', 581),\n",
       " ('Vita-POS Paraf Eye Oint P/F', 578),\n",
       " ('Anusol_Crm', 578),\n",
       " ('Chlorpromazine HCl_Tab 25mg', 577),\n",
       " ('Mirabegron_Tab 25mg M/R', 577),\n",
       " ('Glyceryl Trinit_Sub P/Spy 400mcg (200D)', 574),\n",
       " ('Medihoney_Barrier Crm', 573),\n",
       " ('Buprenorphine_Patch 20mcg/hr (7day)', 573),\n",
       " ('Lyrica_Cap 100mg', 570),\n",
       " ('Co-Beneldopa_Cap 25mg/100mg', 568),\n",
       " ('Octasa_MR Tab E/C 400mg', 567),\n",
       " ('Erythromycin_Ethylsuc Susp 250mg/5ml S/F', 567),\n",
       " ('Valsartan_Cap 80mg', 563),\n",
       " ('Zomorph_Cap 60mg', 563),\n",
       " ('Celluvisc_Eye Dps 1% 0.4ml Ud', 561),\n",
       " ('Emulsif_Oint', 561),\n",
       " ('Unspec Drug Code_', 558),\n",
       " ('Buspirone HCl_Tab 5mg', 558),\n",
       " ('Levest 150/30_Tab', 557),\n",
       " ('Desloratadine_Tab 5mg', 557),\n",
       " ('Sod Valpr_Tab 500mg M/R', 552),\n",
       " ('Tadalafil_Tab 10mg', 551),\n",
       " ('Matrifen_Patch 25mcg/hr', 549),\n",
       " ('Polyfield Nitrile Patient Pack Ster Dres', 548),\n",
       " ('Alfacalcidol_Cap 1mcg', 547),\n",
       " ('Ondansetron HCl_Tab 4mg', 546),\n",
       " ('Pholcodine_Linct Strong 10mg/5ml S/F', 545),\n",
       " ('Etodolac_Tab 600mg M/R', 544),\n",
       " ('Tolterodine_Tab 1mg', 543),\n",
       " ('Qvar 100 E-Breathe_Inha 100mcg (200 D)', 541),\n",
       " ('Methadone HCl_Mix 1mg/1ml', 541),\n",
       " ('Fenofibrate_Cap 200mg (Micronised)', 538),\n",
       " ('Fucidin H_Crm', 536),\n",
       " ('Ins Humalog Mix 25_KwikPen 100u/ml 3mlPf', 535),\n",
       " ('Balneum Plus_Crm', 533),\n",
       " ('Co-Amoxiclav_Tab 250mg/125mg', 533),\n",
       " ('Losartan Pot_Tab 12.5mg', 532),\n",
       " ('Propranolol HCl_Tab 80mg', 532),\n",
       " ('Comfifast 10.75cm x 5m (Yellow)Stkntte E', 532),\n",
       " ('Varenicline Tart_2Wk Init(Tab 0.5mg/1mg)', 531),\n",
       " ('Ensure Plus Juce_Liq Feed (6 Flav)', 530),\n",
       " ('Neocate LCP_Pdr', 529),\n",
       " ('Cetomacrogol_Crm (For A) BP 1988', 527),\n",
       " ('Bricanyl_Turbohaler 500mcg (100 D)', 527),\n",
       " ('Water For Inj_10ml Amp', 527),\n",
       " ('Oilatum_Bath For', 526),\n",
       " ('Clarithromycin_Oral Susp 250mg/5ml', 526),\n",
       " ('Epilim 500_Tab E/C 500mg', 526),\n",
       " ('Dabigatran Etexilate_Cap 150mg', 525),\n",
       " ('Diltiazem HCl_Tab 60mg M/R', 525),\n",
       " ('Scheriproct_Suppos', 522),\n",
       " ('Morph Sulf_Cap 10mg M/R', 521),\n",
       " ('Paroxetine HCl_Tab 10mg', 519),\n",
       " ('Risperidone_Tab 4mg', 519),\n",
       " ('Laxido_Paed Plain Oral Pdr Sach 6.9g', 518),\n",
       " ('Dovobet_Oint 0.005%/0.05%', 518),\n",
       " ('Hyabak Sod Hyaluronate Eye Dps 10ml P/F', 517),\n",
       " ('Seretide 100_Accuhaler 100mcg/50mcg(60D)', 516),\n",
       " ('Almus Sod Chlor 0.9% Nsl Dps', 516),\n",
       " ('Unistik 3 Comfort Lancets 1.8mm/28 Gauge', 512),\n",
       " ('Co-Beneldopa_Cap 12.5mg/50mg', 510),\n",
       " ('Ins Humalog Mix 50_KwikPen 100u/ml 3mlPf', 510),\n",
       " ('Adizem-XL_Cap 180mg', 508),\n",
       " ('Clenil Modulite_Inha 250mcg (200D)', 508),\n",
       " ('Valsartan_Cap 160mg', 507),\n",
       " ('Colecal_Cap 1 000u', 506),\n",
       " ('Pentasa SR_Tab 500mg', 502),\n",
       " ('FreeStyle Optium B-Ketone Reagent_Strips', 502),\n",
       " ('Sod Valpr_Tab 300mg M/R', 502),\n",
       " ('Phenobarb_Tab 30mg', 501),\n",
       " ('CliniFast 10.75cm x 5m (Yellow) Stkntte', 500),\n",
       " ('Baclofen_Oral Soln 5mg/5ml S/F', 500),\n",
       " ('Carvedilol_Tab 6.25mg', 496),\n",
       " ('Adizem-XL_Cap 120mg', 496),\n",
       " ('Bimatoprost_Eye Dps 300mcg/ml 0.4ml Ud', 495),\n",
       " ('Class 1 Stnd C/Kt B/Knee Stkn Elas Hose', 495),\n",
       " ('Tabphyn MR_Cap 400mcg (Kyowa)', 495),\n",
       " ('Risperidone_Tab 3mg', 495),\n",
       " ('Amiloride HCl_Tab 5mg', 494),\n",
       " ('Coloplast_S2 Urine Drain Bag + Nrv + Stn', 493),\n",
       " ('Benzoyl Per/Clindamycin Phos_Gel 3%/1%', 493),\n",
       " ('Asacol_MR Tab E/C 800mg', 492),\n",
       " ('Medicareplus_Medi Derma-S Barrier Crm 90', 492),\n",
       " ('Methadone HCl_Mix 1mg/1ml S/F', 492),\n",
       " ('Epipen_Auto-Inj 1/1000 1mg/ml 0.3ml', 488),\n",
       " ('Tetralysal 300_Cap', 488),\n",
       " ('Trospium Chlor_Tab 20mg', 488),\n",
       " ('NovoFine Needles Pen Inj Screw On 8mm', 487),\n",
       " ('Olanzapine_Tab 7.5mg', 485),\n",
       " ('Naftidrofuryl Oxal_Cap 100mg', 483),\n",
       " ('Matrifen_Patch 12mcg/hr', 482),\n",
       " ('Carvedilol_Tab 12.5mg', 482),\n",
       " ('Codeine Phos_Linct 15mg/5ml S/F', 482),\n",
       " ('Verapamil HCl_Tab 240mg M/R', 481),\n",
       " ('Lido HCl_Inj 1% 2ml Amp', 481),\n",
       " ('Betameth Sod Phos_Ear/Eye/Nsl Dps 0.1%', 480),\n",
       " ('Concerta_XL Tab 36mg', 479),\n",
       " ('Codeine Phos_Linct 15mg/5ml', 478),\n",
       " ('Liq Paraf Light_Bath Add 63.4%', 474),\n",
       " ('Morph Sulf_Tab 30mg M/R', 474),\n",
       " ('Loratadine_Oral Soln 5mg/5ml', 474),\n",
       " ('Verapamil HCl_Tab 120mg M/R', 469),\n",
       " ('Glucoject PLUS Lancets 0.20mm/33 Gauge', 466),\n",
       " ('Hydroxyzine HCl_Tab 10mg', 465),\n",
       " ('Flecainide Acet_Tab 100mg', 464),\n",
       " ('Verapamil HCl_Tab 40mg', 463),\n",
       " ('Ins NovoRapid_Inj 100u/ml 10ml Vl', 461),\n",
       " ('Venlafaxine_Cap 150mg M/R', 460),\n",
       " ('Lyrica_Cap 25mg', 459),\n",
       " ('Tadalafil_Tab 5mg', 456),\n",
       " ('Erythromycin_Ethylsuc Susp 250mg/5ml', 455),\n",
       " ('Etoricoxib_Tab 60mg', 454),\n",
       " ('Octasa_MR Tab E/C 800mg', 453),\n",
       " ('Ibandronic Acid_Tab 150mg', 452),\n",
       " ('Sildenafil_Tab 25mg', 452),\n",
       " ('Stexerol-D3_Tab 1 000u', 450),\n",
       " ('Benzoyl Per_Gel 5%', 450),\n",
       " ('Flutiform_Inha 125/5mcg (120 D)', 449),\n",
       " ('Peppermint Oil_Cap E/C 0.2ml M/R', 449),\n",
       " ('Mepore 7cm x 8cm Pfa + Adh Border Dress', 449),\n",
       " ('Budesonide/Formoterol Inh B/A 100/6(120D', 448),\n",
       " ('Ibuprofen_Oral Susp 100mg/5ml', 448),\n",
       " ('Daktacort_Oint', 447),\n",
       " ('Flumetasone/Clioquinol_Ear Dps 0.02%/1%', 447),\n",
       " ('Adizem-XL_Cap 240mg', 446),\n",
       " ('Carvedilol_Tab 25mg', 446),\n",
       " ('Glycopyrronium Brom_Inh Cap 55mcg + Dev', 444),\n",
       " ('Zelleta_Tab 75mcg', 442),\n",
       " ('Naratriptan HCl_Tab 2.5mg', 441),\n",
       " ('BuTrans_Transdermal Patch 10mcg/hr', 438),\n",
       " ('Ketoprofen_Gel 2.5%', 437),\n",
       " ('Bicalutamide_Tab 50mg', 436),\n",
       " ('Fybogel_Gran Sach 3.5g Plain G/F S/F', 435),\n",
       " ('Co-Amilofruse_Tab 2.5mg/20mg', 435),\n",
       " ('Travatan_Eye Dps 40mcg/ml', 435),\n",
       " ('Carvedilol_Tab 3.125mg', 433),\n",
       " ('Ramipril_Tab 1.25mg', 433),\n",
       " ('Duac_Once Daily Gel (5% and 1%)', 433),\n",
       " ('Isosorbide Mononit_Tab 40mg', 430),\n",
       " ('Morph Sulf_Inj 10mg/1ml Amp', 428),\n",
       " ('Simple_Linct', 428),\n",
       " ('Fesoterodine Fumar_Tab 8mg M/R', 428),\n",
       " ('Movelat_Crm', 428),\n",
       " ('Levetiracetam_Tab 750mg', 428),\n",
       " ('Adizem-SR_Cap 90mg', 427),\n",
       " ('Metformin HCl/Sitagliptin_Tab 1g/50mg', 427),\n",
       " ...]"
      ]
     },
     "execution_count": 17,
     "metadata": {},
     "output_type": "execute_result"
    }
   ],
   "source": [
    "sorted(sum_dict.items(), reverse = True,key=lambda x: x[1])"
   ]
  },
  {
   "cell_type": "code",
   "execution_count": 18,
   "metadata": {},
   "outputs": [],
   "source": [
    "max_item = [(\"Omeprazole_Cap E/C 20mg\", 113826)]"
   ]
  },
  {
   "cell_type": "markdown",
   "metadata": {},
   "source": [
    "**TIP:** If you are getting an error from the grader below, please make sure your answer conforms to the correct format of `[(bnf_name, item total)]`."
   ]
  },
  {
   "cell_type": "code",
   "execution_count": 20,
   "metadata": {},
   "outputs": [
    {
     "name": "stdout",
     "output_type": "stream",
     "text": [
      "==================\n",
      "Your score:  1.0\n",
      "==================\n"
     ]
    }
   ],
   "source": [
    "grader.score.pw__most_common_item(max_item)"
   ]
  },
  {
   "cell_type": "markdown",
   "metadata": {},
   "source": [
    "**Challenge:** Write a function that constructs groups as we did above. The function should accept a list of dictionaries (e.g. `scripts` or `practices`) and a tuple of fields to `groupby` (e.g. `('bnf_name')` or `('bnf_name', 'post_code')`) and returns a dictionary of groups. The following questions will require you to aggregate data in groups, so this could be a useful function for the rest of the miniproject."
   ]
  },
  {
   "cell_type": "code",
   "execution_count": null,
   "metadata": {},
   "outputs": [],
   "source": [
    "# def group_by_field(data, fields):\n",
    "#    groups = {}\n",
    "#    return groups"
   ]
  },
  {
   "cell_type": "code",
   "execution_count": null,
   "metadata": {},
   "outputs": [],
   "source": [
    "#groups = group_by_field(scripts, ('bnf_name',))\n",
    "#test_max_item = ...\n",
    "\n",
    "#assert test_max_item == max_item"
   ]
  },
  {
   "cell_type": "markdown",
   "metadata": {},
   "source": [
    "## Question 3: postal_totals\n",
    "\n",
    "Our data set is broken up among different files. This is typical for tabular data to reduce redundancy. Each table typically contains data about a particular type of event, processes, or physical object. Data on prescriptions and medical practices are in separate files in our case. If we want to find the total items prescribed in each postal code, we will have to _join_ our prescription data (`scripts`) to our clinic data (`practices`).\n",
    "\n",
    "Find the total items prescribed in each postal code, representing the results as a list of tuples `(post code, total items prescribed)`. Sort your results ascending alphabetically by post code and take only results from the first 100 post codes. Only include post codes if there is at least one prescription from a practice in that post code.\n",
    "\n",
    "**NOTE:** Some practices have multiple postal codes associated with them. Use the alphabetically first postal code."
   ]
  },
  {
   "cell_type": "markdown",
   "metadata": {},
   "source": [
    "We can join `scripts` and `practices` based on the fact that `'practice'` in `scripts` matches `'code'` in `practices'`. However, we must first deal with the repeated values of `'code'` in `practices`. We want the alphabetically first postal codes."
   ]
  },
  {
   "cell_type": "code",
   "execution_count": 21,
   "metadata": {},
   "outputs": [],
   "source": [
    "practice_postal = {}\n",
    "for practice in practices:\n",
    "    if practice['code'] in practice_postal:\n",
    "        if practice['post_code'] < practice_postal[practice['code']]:\n",
    "            practice_postal[practice['code']] = practice['post_code']\n",
    "        else:\n",
    "            pass\n",
    "    else:\n",
    "        practice_postal[practice['code']] = practice['post_code']\n",
    "\n",
    "joined = scripts[:]\n",
    "for script in joined:\n",
    "    script['post_code'] = practice_postal[script['practice']]\n",
    "\n",
    "post_code_list=[]\n",
    "for script in joined:\n",
    "    post_code_list.append(script['post_code'])\n",
    "\n",
    "groups={post_code: [] for post_code in post_code_list}\n",
    "\n",
    "for script in joined:\n",
    "    groups[script['post_code']].append(script['items'])\n",
    "\n",
    "for group in groups.items():\n",
    "    groups[group[0]]=sum(group[1])\n",
    "\n",
    "s=sorted(groups.items(), key=lambda tup: tup[0])\n",
    "\n",
    "def postal_totals():\n",
    "    return s[:100]"
   ]
  },
  {
   "cell_type": "markdown",
   "metadata": {},
   "source": [
    "**Challenge:** This is an aggregation of the practice data grouped by practice codes. Write an alternative implementation of the above cell using the `group_by_field` function you defined previously."
   ]
  },
  {
   "cell_type": "code",
   "execution_count": 22,
   "metadata": {},
   "outputs": [],
   "source": [
    "practice_postal = {}\n",
    "for practice in practices:\n",
    "    if practice['code'] in practice_postal:\n",
    "        if practice['post_code'] < practice_postal[practice['code']]:\n",
    "            practice_postal[practice['code']] = practice['post_code']\n",
    "        else:\n",
    "            pass\n",
    "    else:\n",
    "        practice_postal[practice['code']] = practice['post_code']"
   ]
  },
  {
   "cell_type": "code",
   "execution_count": 23,
   "metadata": {},
   "outputs": [
    {
     "data": {
      "text/plain": [
       "dict"
      ]
     },
     "execution_count": 23,
     "metadata": {},
     "output_type": "execute_result"
    }
   ],
   "source": [
    "type(practice_postal)"
   ]
  },
  {
   "cell_type": "markdown",
   "metadata": {},
   "source": [
    "Now we can join `practice_postal` to `scripts`."
   ]
  },
  {
   "cell_type": "code",
   "execution_count": 24,
   "metadata": {},
   "outputs": [],
   "source": [
    "joined = scripts[:]\n",
    "for script in joined:\n",
    "    script['post_code'] = practice_postal[script['practice']]"
   ]
  },
  {
   "cell_type": "code",
   "execution_count": 25,
   "metadata": {},
   "outputs": [
    {
     "data": {
      "text/plain": [
       "list"
      ]
     },
     "execution_count": 25,
     "metadata": {},
     "output_type": "execute_result"
    }
   ],
   "source": [
    "type(joined)"
   ]
  },
  {
   "cell_type": "code",
   "execution_count": 26,
   "metadata": {},
   "outputs": [
    {
     "name": "stdout",
     "output_type": "stream",
     "text": [
      "[{'bnf_code': '0101010G0AAABAB', 'items': 2, 'practice': 'N81013', 'bnf_name': 'Co-Magaldrox_Susp 195mg/220mg/5ml S/F', 'nic': 5.98, 'act_cost': 5.56, 'quantity': 1000, 'post_code': 'SK11 6JL'}]\n"
     ]
    }
   ],
   "source": [
    "print (joined[:1])"
   ]
  },
  {
   "cell_type": "markdown",
   "metadata": {},
   "source": [
    "Finally we'll group the prescription dictionaries in `joined` by `'post_code'` and sum up the items prescribed in each group, as we did in the previous question."
   ]
  },
  {
   "cell_type": "code",
   "execution_count": 27,
   "metadata": {},
   "outputs": [],
   "source": [
    "items_by_post = []\n",
    "\n",
    "for script in joined:\n",
    "    items_by_post.append(script['post_code'])\n",
    "\n",
    "groups={post_code: [] for post_code in items_by_post}\n",
    "\n",
    "for script in joined:\n",
    "    groups[script['post_code']].append(script['items'])\n",
    "\n",
    "for group in groups.items():\n",
    "    groups[group[0]]=sum(group[1])\n",
    "\n",
    "s=sorted(groups.items(), key=lambda tup: tup[0])"
   ]
  },
  {
   "cell_type": "code",
   "execution_count": 28,
   "metadata": {},
   "outputs": [
    {
     "data": {
      "text/plain": [
       "list"
      ]
     },
     "execution_count": 28,
     "metadata": {},
     "output_type": "execute_result"
    }
   ],
   "source": [
    "type(items_by_post)"
   ]
  },
  {
   "cell_type": "code",
   "execution_count": 29,
   "metadata": {},
   "outputs": [
    {
     "name": "stdout",
     "output_type": "stream",
     "text": [
      "['SK11 6JL', 'SK11 6JL']\n"
     ]
    }
   ],
   "source": [
    "print (items_by_post [:2])"
   ]
  },
  {
   "cell_type": "code",
   "execution_count": 30,
   "metadata": {},
   "outputs": [
    {
     "name": "stdout",
     "output_type": "stream",
     "text": [
      "[('B11 4BW', 20673), ('B18 7AL', 19001)]\n"
     ]
    }
   ],
   "source": [
    "print (s[:2])"
   ]
  },
  {
   "cell_type": "code",
   "execution_count": 31,
   "metadata": {},
   "outputs": [],
   "source": [
    "def postal_totals():\n",
    "    return s[:100]"
   ]
  },
  {
   "cell_type": "code",
   "execution_count": 32,
   "metadata": {},
   "outputs": [
    {
     "name": "stdout",
     "output_type": "stream",
     "text": [
      "[('B11 4BW', 20673), ('B18 7AL', 19001), ('B21 9RY', 29103), ('B23 6DJ', 24859), ('B70 7AW', 36531), ('BB11 2DL', 34356), ('BB2 1AX', 28254), ('BB3 1PY', 54514), ('BB4 5SL', 29388), ('BB7 2JG', 44585), ('BB8 0JZ', 54380), ('BB9 7SR', 38224), ('BD3 8QH', 21010), ('BH18 8EE', 39413), ('BH23 3AF', 32545), ('BL1 8TU', 26132), ('BL3 5HP', 27147), ('BL9 0NJ', 32062), ('BL9 0SN', 35275), ('CB9 8HF', 51337), ('CH1 4DS', 34915), ('CH65 6TG', 25090), ('CT11 8AD', 44358), ('CV1 4FS', 37210), ('CW1 3AW', 64104), ('CW5 5NX', 38797), ('CW7 1AT', 43164), ('DA1 2HA', 26075), ('DA11 8BZ', 24090), ('DN22 7XF', 43091), ('DN34 4GB', 48013), ('FY2 0JG', 69118), ('FY4 1TJ', 62886), ('FY5 2TZ', 44258), ('FY7 8GU', 34473), ('GL1 3PX', 38120), ('GL50 4DP', 74822), ('GU9 9QS', 32131), ('HA0 4UZ', 22755), ('HA3 7LT', 32113), ('HG1 5AR', 32684), ('HU7 4DW', 49107), ('KT14 6DH', 26758), ('KT6 6EZ', 38975), ('L31 0DJ', 32065), ('L36 7XY', 22965), ('L5 0QW', 24676), ('L7 6HD', 42569), ('LA1 1PN', 47335), ('LE10 1DS', 49335), ('LE18 2EW', 37144), ('LE5 3GH', 28654), ('LN2 2JP', 46173), ('LS9 9EF', 48051), ('M11 4EJ', 23166), ('M26 2SP', 37718), ('M30 0NU', 25597), ('M35 0AD', 37632), ('ME8 8AA', 25257), ('N9 7HD', 30706), ('NE10 9QG', 39882), ('NE24 1DX', 50491), ('NE37 2PU', 57500), ('NE38 7NQ', 52803), ('NG7 3GW', 17698), ('NG7 5HY', 24903), ('NN16 8DN', 50771), ('NW10 8RY', 21553), ('OL1 1NL', 41046), ('OL11 1DN', 21567), ('OL4 1YN', 24687), ('OL9 7AY', 28394), ('PL7 1AD', 65051), ('RM3 9SU', 25476), ('S63 9EH', 34787), ('S65 1DA', 71683), ('S74 9AF', 55305), ('SE1 6JP', 45030), ('SE15 5LJ', 15258), ('SK11 6JL', 110071), ('SK6 1ND', 28313), ('SM3 8EP', 24965), ('SM6 0HY', 46016), ('SR4 7XF', 49843), ('SR5 2LT', 44895), ('SS0 7AF', 21569), ('SS13 3HQ', 38513), ('SS8 0JA', 45848), ('SS9 5UU', 26095), ('ST1 4PB', 24227), ('ST3 6AB', 38705), ('ST8 6AG', 34516), ('TN24 0GP', 16955), ('TN34 1BA', 47440), ('TR1 2JA', 40194), ('TS1 2NX', 47623), ('TS10 4NW', 45161), ('TS17 0EE', 68388), ('TS23 2DG', 31646), ('TS24 7PW', 58207)]\n"
     ]
    }
   ],
   "source": [
    "print (postal_totals())"
   ]
  },
  {
   "cell_type": "code",
   "execution_count": 33,
   "metadata": {},
   "outputs": [
    {
     "name": "stdout",
     "output_type": "stream",
     "text": [
      "==================\n",
      "Your score:  1.0\n",
      "==================\n"
     ]
    }
   ],
   "source": [
    "grader.score.pw__postal_totals(postal_totals)"
   ]
  },
  {
   "cell_type": "markdown",
   "metadata": {},
   "source": [
    "## Question 4: items_by_region\n",
    "\n",
    "Now we'll combine the techniques we've developed to answer a more complex question. Find the most commonly dispensed item in each postal code, representing the results as a list of tuples (`post_code`, `bnf_name`, amount dispensed as proportion of total). Sort your results ascending alphabetically by post code and take only results from the first 100 post codes.\n",
    "\n",
    "**NOTE:** We'll continue to use the `joined` variable we created before, where we've chosen the alphabetically first postal code for each practice. Additionally, some postal codes will have multiple `'bnf_name'` with the same number of items prescribed for the maximum. In this case, we'll take the alphabetically first `'bnf_name'`."
   ]
  },
  {
   "cell_type": "markdown",
   "metadata": {},
   "source": [
    "Now we need to calculate the total items of each `'bnf_name'` prescribed in each `'post_code'`. Use the techniques we developed in the previous questions to calculate these totals. You should have 141196 `('post_code', 'bnf_name')` groups."
   ]
  },
  {
   "cell_type": "code",
   "execution_count": 34,
   "metadata": {},
   "outputs": [
    {
     "name": "stdout",
     "output_type": "stream",
     "text": [
      "[{'bnf_code': '0101010G0AAABAB', 'items': 2, 'practice': 'N81013', 'bnf_name': 'Co-Magaldrox_Susp 195mg/220mg/5ml S/F', 'nic': 5.98, 'act_cost': 5.56, 'quantity': 1000, 'post_code': 'SK11 6JL'}]\n"
     ]
    }
   ],
   "source": [
    "print (joined [:1])"
   ]
  },
  {
   "cell_type": "code",
   "execution_count": 35,
   "metadata": {},
   "outputs": [],
   "source": [
    "post_code_list=[]\n",
    "for script in joined:\n",
    "    post_code_list.append(script['post_code'])"
   ]
  },
  {
   "cell_type": "code",
   "execution_count": 36,
   "metadata": {},
   "outputs": [
    {
     "name": "stdout",
     "output_type": "stream",
     "text": [
      "['SK11 6JL', 'SK11 6JL', 'SK11 6JL', 'SK11 6JL', 'SK11 6JL']\n"
     ]
    }
   ],
   "source": [
    "print (post_code_list[:5])"
   ]
  },
  {
   "cell_type": "code",
   "execution_count": 37,
   "metadata": {},
   "outputs": [],
   "source": [
    "post_code_list = set(post_code_list)"
   ]
  },
  {
   "cell_type": "code",
   "execution_count": 38,
   "metadata": {},
   "outputs": [],
   "source": [
    "dict_new = {post_code:[] for post_code in post_code_list}\n",
    "\n",
    "for script in joined:\n",
    "    if len(dict_new[script['post_code']])== 2 and dict_new[script['post_code']][0] == script['bnf_name']:\n",
    "        dict_new[script['post_code']][1] += script['items']\n",
    "    else:\n",
    "        dict_new[script['post_code']].append((script['bnf_name'],script['items']))"
   ]
  },
  {
   "cell_type": "code",
   "execution_count": 39,
   "metadata": {},
   "outputs": [],
   "source": [
    "list_new = []\n",
    "for key in dict_new.keys():\n",
    "    for i in range(len(dict_new[key])):\n",
    "        list_new.append({'post_code': key, 'bnf_name': dict_new[key][i][0], 'total':dict_new[key][i][1]})"
   ]
  },
  {
   "cell_type": "code",
   "execution_count": 42,
   "metadata": {},
   "outputs": [],
   "source": [
    "total_by_item_post = {(dict_info['post_code'], dict_info['bnf_name']): dict_info['total'] for dict_info in list_new}"
   ]
  },
  {
   "cell_type": "markdown",
   "metadata": {},
   "source": [
    "Let's use `total_by_item_post` to find the maximum item total for each postal code. To do this, we will want to regroup `total_by_item_post` by `'post_code'` only, not by `('post_code', 'bnf_name')`. First let's turn `total_by_item_post` into a list of dictionaries (similar to `scripts` or `practices`) and then group it by `'post_code'`. You should have 118 groups in `total_by_item_post` after grouping it by `'post_code'`."
   ]
  },
  {
   "cell_type": "markdown",
   "metadata": {},
   "source": [
    "Now we will aggregate the groups in `total_by_item_post` to create `max_item_by_post`. Some `'bnf_name'` have the same item total within a given postal code. Therefore, if more than one `'bnf_name'` has the maximum item total in a given postal code, we'll take the alphabetically first `'bnf_name'`. We can do this by [sorting](https://docs.python.org/2.7/howto/sorting.html) each group according to the item total and `'bnf_name'`."
   ]
  },
  {
   "cell_type": "code",
   "execution_count": null,
   "metadata": {},
   "outputs": [],
   "source": [
    "max_item_by_post = ..."
   ]
  },
  {
   "cell_type": "code",
   "execution_count": null,
   "metadata": {},
   "outputs": [],
   "source": [
    "items_by_region = [('B11 4BW', 'Salbutamol_Inha 100mcg (200 D) CFF', 0.0341508247)] * 100"
   ]
  },
  {
   "cell_type": "markdown",
   "metadata": {},
   "source": [
    "In order to express the item totals as a proportion of the total amount of items prescribed across all `'bnf_name'` in a postal code, we'll need to use the total items prescribed that previously calculated as `items_by_post`. Calculate the proportions for the most common `'bnf_names'` for each postal code. Format your answer as a list of tuples: `[(post_code, bnf_name, total)]`"
   ]
  },
  {
   "cell_type": "markdown",
   "metadata": {},
   "source": [
    "*Copyright &copy; 2017 The Data Incubator.  All rights reserved.*"
   ]
  }
 ],
 "metadata": {
  "kernelspec": {
   "display_name": "Python 3",
   "language": "python",
   "name": "python3"
  },
  "language_info": {
   "codemirror_mode": {
    "name": "ipython",
    "version": 3
   },
   "file_extension": ".py",
   "mimetype": "text/x-python",
   "name": "python",
   "nbconvert_exporter": "python",
   "pygments_lexer": "ipython3",
   "version": "3.6.2"
  },
  "nbclean": true
 },
 "nbformat": 4,
 "nbformat_minor": 1
}
